{
 "cells": [
  {
   "cell_type": "code",
   "execution_count": 119,
   "metadata": {},
   "outputs": [],
   "source": [
    "import glob\n",
    "import random\n",
    "import pandas as pd\n",
    "import numpy as np\n",
    "import matplotlib.pyplot as plt\n",
    "from PIL import Image\n",
    "import tifffile\n",
    "\n",
    "from tqdm import tqdm\n",
    "from itertools import chain\n",
    "from skimage.io import imread, imshow, concatenate_images\n",
    "from skimage.transform import resize\n",
    "from skimage.morphology import label\n",
    "from sklearn.model_selection import train_test_split"
   ]
  },
  {
   "cell_type": "code",
   "execution_count": 138,
   "metadata": {},
   "outputs": [],
   "source": [
    "from tensorflow.keras.models import Sequential \n",
    "from tensorflow.keras.backend import set_image_data_format \n",
    "from tensorflow.keras.layers import Conv2D, MaxPool2D, BatchNormalization \n",
    "from tensorflow.keras.layers import Conv2D, MaxPooling2D, Conv2DTranspose\n",
    "from tensorflow.keras.layers import Activation, Dropout, Flatten, Dense, Input, concatenate, add \n",
    "from tensorflow.keras import optimizers, losses, utils \n",
    "from tensorflow.keras.callbacks import EarlyStopping, ModelCheckpoint, ReduceLROnPlateau\n",
    "#from keras.layers.merge import concatenate, add"
   ]
  },
  {
   "cell_type": "code",
   "execution_count": 157,
   "metadata": {},
   "outputs": [
    {
     "name": "stderr",
     "output_type": "stream",
     "text": [
      "100%|██████████| 2500/2500 [00:04<00:00, 561.96it/s]\n"
     ]
    }
   ],
   "source": [
    "X=[]\n",
    "files = glob.glob(\"tif_data/River/*.tif\")\n",
    "for file in tqdm(files):\n",
    "    im = tifffile.imread(file)\n",
    "    img = im[:,:, [3,2,1]]/10\n",
    "    X.append(img)\n",
    "    "
   ]
  },
  {
   "cell_type": "code",
   "execution_count": 158,
   "metadata": {},
   "outputs": [],
   "source": [
    "y=[]\n",
    "files = glob.glob(\"tif_data/tif_mask/*.png\")\n",
    "for file in files:\n",
    "    img = np.asarray(Image.open(file))\n",
    "    y.append(img)\n",
    "    "
   ]
  },
  {
   "cell_type": "code",
   "execution_count": 159,
   "metadata": {},
   "outputs": [],
   "source": [
    "y=np.asarray(y)"
   ]
  },
  {
   "cell_type": "code",
   "execution_count": 160,
   "metadata": {},
   "outputs": [],
   "source": [
    "X=np.asarray(X)"
   ]
  },
  {
   "cell_type": "code",
   "execution_count": 163,
   "metadata": {},
   "outputs": [
    {
     "data": {
      "text/plain": [
       "(2500, 64, 64)"
      ]
     },
     "execution_count": 163,
     "metadata": {},
     "output_type": "execute_result"
    }
   ],
   "source": [
    "y.shape"
   ]
  },
  {
   "cell_type": "code",
   "execution_count": 18,
   "metadata": {},
   "outputs": [
    {
     "data": {
      "text/plain": [
       "(2500, 64, 64, 1)"
      ]
     },
     "execution_count": 18,
     "metadata": {},
     "output_type": "execute_result"
    }
   ],
   "source": [
    "#y.reshape(2500,64,64,1).shape"
   ]
  },
  {
   "cell_type": "code",
   "execution_count": 114,
   "metadata": {},
   "outputs": [],
   "source": [
    "idx=np.random.randint(0,2500)"
   ]
  },
  {
   "cell_type": "code",
   "execution_count": 115,
   "metadata": {},
   "outputs": [
    {
     "data": {
      "text/plain": [
       "<matplotlib.image.AxesImage at 0x1a38c0a630>"
      ]
     },
     "execution_count": 115,
     "metadata": {},
     "output_type": "execute_result"
    },
    {
     "data": {
      "image/png": "[encoded data removed]",
      "text/plain": [
       "<Figure size 432x288 with 2 Axes>"
      ]
     },
     "metadata": {
      "needs_background": "light"
     },
     "output_type": "display_data"
    }
   ],
   "source": [
    "fig, ax= plt.subplots(1,2)\n",
    "ax[0].imshow(np.array(X[idx],np.int32))\n",
    "ax[1].imshow(y[idx], cmap='Greys')"
   ]
  },
  {
   "cell_type": "code",
   "execution_count": 165,
   "metadata": {},
   "outputs": [
    {
     "data": {
      "text/plain": [
       "(300, 64, 64, 3)"
      ]
     },
     "execution_count": 165,
     "metadata": {},
     "output_type": "execute_result"
    }
   ],
   "source": [
    "X_val.shape#=np.asarray(X_val)"
   ]
  },
  {
   "cell_type": "code",
   "execution_count": 164,
   "metadata": {},
   "outputs": [],
   "source": [
    "X_train, X_val, y_train, y_val = train_test_split(X, y, test_size=0.12, random_state=117)"
   ]
  },
  {
   "cell_type": "code",
   "execution_count": 124,
   "metadata": {},
   "outputs": [],
   "source": [
    "def conv2d_block(input_tensor, n_filters, kernel_size = 3, batchnorm = True):\n",
    "    \"\"\"Function to add 2 convolutional layers with the parameters passed to it\"\"\"\n",
    "    # first layer\n",
    "    x = Conv2D(filters = n_filters, kernel_size = (kernel_size, kernel_size),\\\n",
    "              kernel_initializer = 'he_normal', padding = 'same')(input_tensor)\n",
    "    if batchnorm:\n",
    "        x = BatchNormalization()(x)\n",
    "    x = Activation('relu')(x)\n",
    "    \n",
    "    # second layer\n",
    "    x = Conv2D(filters = n_filters, kernel_size = (kernel_size, kernel_size),\\\n",
    "              kernel_initializer = 'he_normal', padding = 'same')(input_tensor)\n",
    "    if batchnorm:\n",
    "        x = BatchNormalization()(x)\n",
    "    x = Activation('relu')(x)\n",
    "    \n",
    "    return x"
   ]
  },
  {
   "cell_type": "code",
   "execution_count": 125,
   "metadata": {},
   "outputs": [],
   "source": [
    "def get_unet(input_img, n_filters = 16, dropout = 0.1, batchnorm = True):\n",
    "    \"\"\"Function to define the UNET Model\"\"\"\n",
    "    # Contracting Path\n",
    "    c1 = conv2d_block(input_img, n_filters * 1, kernel_size = 3, batchnorm = batchnorm)\n",
    "    p1 = MaxPooling2D((2, 2))(c1)\n",
    "    p1 = Dropout(dropout)(p1)\n",
    "    \n",
    "    c2 = conv2d_block(p1, n_filters * 2, kernel_size = 3, batchnorm = batchnorm)\n",
    "    p2 = MaxPooling2D((2, 2))(c2)\n",
    "    p2 = Dropout(dropout)(p2)\n",
    "    \n",
    "    c3 = conv2d_block(p2, n_filters * 4, kernel_size = 3, batchnorm = batchnorm)\n",
    "    p3 = MaxPooling2D((2, 2))(c3)\n",
    "    p3 = Dropout(dropout)(p3)\n",
    "    \n",
    "    c4 = conv2d_block(p3, n_filters * 8, kernel_size = 3, batchnorm = batchnorm)\n",
    "    p4 = MaxPooling2D((2, 2))(c4)\n",
    "    p4 = Dropout(dropout)(p4)\n",
    "    \n",
    "    c5 = conv2d_block(p4, n_filters = n_filters * 16, kernel_size = 3, batchnorm = batchnorm)\n",
    "    \n",
    "    # Expansive Path\n",
    "    u6 = Conv2DTranspose(n_filters * 8, (3, 3), strides = (2, 2), padding = 'same')(c5)\n",
    "    u6 = concatenate([u6, c4])\n",
    "    u6 = Dropout(dropout)(u6)\n",
    "    c6 = conv2d_block(u6, n_filters * 8, kernel_size = 3, batchnorm = batchnorm)\n",
    "    \n",
    "    u7 = Conv2DTranspose(n_filters * 4, (3, 3), strides = (2, 2), padding = 'same')(c6)\n",
    "    u7 = concatenate([u7, c3])\n",
    "    u7 = Dropout(dropout)(u7)\n",
    "    c7 = conv2d_block(u7, n_filters * 4, kernel_size = 3, batchnorm = batchnorm)\n",
    "    \n",
    "    u8 = Conv2DTranspose(n_filters * 2, (3, 3), strides = (2, 2), padding = 'same')(c7)\n",
    "    u8 = concatenate([u8, c2])\n",
    "    u8 = Dropout(dropout)(u8)\n",
    "    c8 = conv2d_block(u8, n_filters * 2, kernel_size = 3, batchnorm = batchnorm)\n",
    "    \n",
    "    u9 = Conv2DTranspose(n_filters * 1, (3, 3), strides = (2, 2), padding = 'same')(c8)\n",
    "    u9 = concatenate([u9, c1])\n",
    "    u9 = Dropout(dropout)(u9)\n",
    "    c9 = conv2d_block(u9, n_filters * 1, kernel_size = 3, batchnorm = batchnorm)\n",
    "    \n",
    "    outputs = Conv2D(1, (1, 1), activation='sigmoid')(c9)\n",
    "    model = Model(inputs=[input_img], outputs=[outputs])\n",
    "    return model"
   ]
  },
  {
   "cell_type": "code",
   "execution_count": 166,
   "metadata": {},
   "outputs": [],
   "source": [
    "input_img = Input((64, 64, 3), name='img')\n",
    "model = get_unet(input_img, n_filters=16, dropout=0.05, batchnorm=True)\n",
    "model.compile(optimizer='Adam', loss=\"binary_crossentropy\", metrics=[\"accuracy\"])"
   ]
  },
  {
   "cell_type": "code",
   "execution_count": 167,
   "metadata": {},
   "outputs": [
    {
     "name": "stdout",
     "output_type": "stream",
     "text": [
      "Model: \"model_2\"\n",
      "__________________________________________________________________________________________________\n",
      "Layer (type)                    Output Shape         Param #     Connected to                     \n",
      "==================================================================================================\n",
      "img (InputLayer)                [(None, 64, 64, 3)]  0                                            \n",
      "__________________________________________________________________________________________________\n",
      "conv2d_59 (Conv2D)              (None, 64, 64, 16)   448         img[0][0]                        \n",
      "__________________________________________________________________________________________________\n",
      "batch_normalization_57 (BatchNo (None, 64, 64, 16)   64          conv2d_59[0][0]                  \n",
      "__________________________________________________________________________________________________\n",
      "activation_57 (Activation)      (None, 64, 64, 16)   0           batch_normalization_57[0][0]     \n",
      "__________________________________________________________________________________________________\n",
      "max_pooling2d_16 (MaxPooling2D) (None, 32, 32, 16)   0           activation_57[0][0]              \n",
      "__________________________________________________________________________________________________\n",
      "dropout_24 (Dropout)            (None, 32, 32, 16)   0           max_pooling2d_16[0][0]           \n",
      "__________________________________________________________________________________________________\n",
      "conv2d_61 (Conv2D)              (None, 32, 32, 32)   4640        dropout_24[0][0]                 \n",
      "__________________________________________________________________________________________________\n",
      "batch_normalization_59 (BatchNo (None, 32, 32, 32)   128         conv2d_61[0][0]                  \n",
      "__________________________________________________________________________________________________\n",
      "activation_59 (Activation)      (None, 32, 32, 32)   0           batch_normalization_59[0][0]     \n",
      "__________________________________________________________________________________________________\n",
      "max_pooling2d_17 (MaxPooling2D) (None, 16, 16, 32)   0           activation_59[0][0]              \n",
      "__________________________________________________________________________________________________\n",
      "dropout_25 (Dropout)            (None, 16, 16, 32)   0           max_pooling2d_17[0][0]           \n",
      "__________________________________________________________________________________________________\n",
      "conv2d_63 (Conv2D)              (None, 16, 16, 64)   18496       dropout_25[0][0]                 \n",
      "__________________________________________________________________________________________________\n",
      "batch_normalization_61 (BatchNo (None, 16, 16, 64)   256         conv2d_63[0][0]                  \n",
      "__________________________________________________________________________________________________\n",
      "activation_61 (Activation)      (None, 16, 16, 64)   0           batch_normalization_61[0][0]     \n",
      "__________________________________________________________________________________________________\n",
      "max_pooling2d_18 (MaxPooling2D) (None, 8, 8, 64)     0           activation_61[0][0]              \n",
      "__________________________________________________________________________________________________\n",
      "dropout_26 (Dropout)            (None, 8, 8, 64)     0           max_pooling2d_18[0][0]           \n",
      "__________________________________________________________________________________________________\n",
      "conv2d_65 (Conv2D)              (None, 8, 8, 128)    73856       dropout_26[0][0]                 \n",
      "__________________________________________________________________________________________________\n",
      "batch_normalization_63 (BatchNo (None, 8, 8, 128)    512         conv2d_65[0][0]                  \n",
      "__________________________________________________________________________________________________\n",
      "activation_63 (Activation)      (None, 8, 8, 128)    0           batch_normalization_63[0][0]     \n",
      "__________________________________________________________________________________________________\n",
      "max_pooling2d_19 (MaxPooling2D) (None, 4, 4, 128)    0           activation_63[0][0]              \n",
      "__________________________________________________________________________________________________\n",
      "dropout_27 (Dropout)            (None, 4, 4, 128)    0           max_pooling2d_19[0][0]           \n",
      "__________________________________________________________________________________________________\n",
      "conv2d_67 (Conv2D)              (None, 4, 4, 256)    295168      dropout_27[0][0]                 \n",
      "__________________________________________________________________________________________________\n",
      "batch_normalization_65 (BatchNo (None, 4, 4, 256)    1024        conv2d_67[0][0]                  \n",
      "__________________________________________________________________________________________________\n",
      "activation_65 (Activation)      (None, 4, 4, 256)    0           batch_normalization_65[0][0]     \n",
      "__________________________________________________________________________________________________\n",
      "conv2d_transpose_9 (Conv2DTrans (None, 8, 8, 128)    295040      activation_65[0][0]              \n",
      "__________________________________________________________________________________________________\n",
      "concatenate_8 (Concatenate)     (None, 8, 8, 256)    0           conv2d_transpose_9[0][0]         \n",
      "                                                                 activation_63[0][0]              \n",
      "__________________________________________________________________________________________________\n",
      "dropout_28 (Dropout)            (None, 8, 8, 256)    0           concatenate_8[0][0]              \n",
      "__________________________________________________________________________________________________\n",
      "conv2d_69 (Conv2D)              (None, 8, 8, 128)    295040      dropout_28[0][0]                 \n",
      "__________________________________________________________________________________________________\n",
      "batch_normalization_67 (BatchNo (None, 8, 8, 128)    512         conv2d_69[0][0]                  \n",
      "__________________________________________________________________________________________________\n",
      "activation_67 (Activation)      (None, 8, 8, 128)    0           batch_normalization_67[0][0]     \n",
      "__________________________________________________________________________________________________\n",
      "conv2d_transpose_10 (Conv2DTran (None, 16, 16, 64)   73792       activation_67[0][0]              \n",
      "__________________________________________________________________________________________________\n",
      "concatenate_9 (Concatenate)     (None, 16, 16, 128)  0           conv2d_transpose_10[0][0]        \n",
      "                                                                 activation_61[0][0]              \n",
      "__________________________________________________________________________________________________\n",
      "dropout_29 (Dropout)            (None, 16, 16, 128)  0           concatenate_9[0][0]              \n",
      "__________________________________________________________________________________________________\n",
      "conv2d_71 (Conv2D)              (None, 16, 16, 64)   73792       dropout_29[0][0]                 \n",
      "__________________________________________________________________________________________________\n",
      "batch_normalization_69 (BatchNo (None, 16, 16, 64)   256         conv2d_71[0][0]                  \n",
      "__________________________________________________________________________________________________\n",
      "activation_69 (Activation)      (None, 16, 16, 64)   0           batch_normalization_69[0][0]     \n",
      "__________________________________________________________________________________________________\n",
      "conv2d_transpose_11 (Conv2DTran (None, 32, 32, 32)   18464       activation_69[0][0]              \n",
      "__________________________________________________________________________________________________\n",
      "concatenate_10 (Concatenate)    (None, 32, 32, 64)   0           conv2d_transpose_11[0][0]        \n",
      "                                                                 activation_59[0][0]              \n",
      "__________________________________________________________________________________________________\n",
      "dropout_30 (Dropout)            (None, 32, 32, 64)   0           concatenate_10[0][0]             \n",
      "__________________________________________________________________________________________________\n",
      "conv2d_73 (Conv2D)              (None, 32, 32, 32)   18464       dropout_30[0][0]                 \n",
      "__________________________________________________________________________________________________\n",
      "batch_normalization_71 (BatchNo (None, 32, 32, 32)   128         conv2d_73[0][0]                  \n",
      "__________________________________________________________________________________________________\n",
      "activation_71 (Activation)      (None, 32, 32, 32)   0           batch_normalization_71[0][0]     \n",
      "__________________________________________________________________________________________________\n",
      "conv2d_transpose_12 (Conv2DTran (None, 64, 64, 16)   4624        activation_71[0][0]              \n",
      "__________________________________________________________________________________________________\n",
      "concatenate_11 (Concatenate)    (None, 64, 64, 32)   0           conv2d_transpose_12[0][0]        \n",
      "                                                                 activation_57[0][0]              \n",
      "__________________________________________________________________________________________________\n",
      "dropout_31 (Dropout)            (None, 64, 64, 32)   0           concatenate_11[0][0]             \n",
      "__________________________________________________________________________________________________\n",
      "conv2d_75 (Conv2D)              (None, 64, 64, 16)   4624        dropout_31[0][0]                 \n",
      "__________________________________________________________________________________________________\n",
      "batch_normalization_73 (BatchNo (None, 64, 64, 16)   64          conv2d_75[0][0]                  \n",
      "__________________________________________________________________________________________________\n",
      "activation_73 (Activation)      (None, 64, 64, 16)   0           batch_normalization_73[0][0]     \n",
      "__________________________________________________________________________________________________\n",
      "conv2d_76 (Conv2D)              (None, 64, 64, 1)    17          activation_73[0][0]              \n",
      "==================================================================================================\n",
      "Total params: 1,179,409\n",
      "Trainable params: 1,177,937\n",
      "Non-trainable params: 1,472\n",
      "__________________________________________________________________________________________________\n"
     ]
    }
   ],
   "source": [
    "model.summary()"
   ]
  },
  {
   "cell_type": "code",
   "execution_count": 168,
   "metadata": {},
   "outputs": [],
   "source": [
    "callbacks = [\n",
    "    EarlyStopping(patience=10, verbose=1),\n",
    "    ReduceLROnPlateau(factor=0.1, patience=5, min_lr=0.00001, verbose=1),\n",
    "    ModelCheckpoint('model-best.h5', verbose=1, save_best_only=True, save_weights_only=True)\n",
    "]"
   ]
  },
  {
   "cell_type": "code",
   "execution_count": 169,
   "metadata": {},
   "outputs": [
    {
     "name": "stdout",
     "output_type": "stream",
     "text": [
      "Train on 2200 samples, validate on 300 samples\n",
      "Epoch 1/50\n",
      "2176/2200 [============================>.] - ETA: 0s - loss: -461.6589 - accuracy: 0.2723\n",
      "Epoch 00001: val_loss improved from inf to 505.45177, saving model to model-best.h5\n",
      "2200/2200 [==============================] - 43s 19ms/sample - loss: -463.4769 - accuracy: 0.2722 - val_loss: 505.4518 - val_accuracy: 0.4015\n",
      "Epoch 2/50\n",
      "2176/2200 [============================>.] - ETA: 0s - loss: -789.5211 - accuracy: 0.2380\n",
      "Epoch 00002: val_loss improved from 505.45177 to 61.05329, saving model to model-best.h5\n",
      "2200/2200 [==============================] - 40s 18ms/sample - loss: -791.0184 - accuracy: 0.2373 - val_loss: 61.0533 - val_accuracy: 0.2753\n",
      "Epoch 3/50\n",
      "2176/2200 [============================>.] - ETA: 0s - loss: -1071.2166 - accuracy: 0.1761\n",
      "Epoch 00003: val_loss improved from 61.05329 to -597.19203, saving model to model-best.h5\n",
      "2200/2200 [==============================] - 41s 19ms/sample - loss: -1072.1135 - accuracy: 0.1761 - val_loss: -597.1920 - val_accuracy: 0.0935\n",
      "Epoch 4/50\n",
      "2176/2200 [============================>.] - ETA: 0s - loss: -1387.2519 - accuracy: 0.1591\n",
      "Epoch 00004: val_loss improved from -597.19203 to -1009.74966, saving model to model-best.h5\n",
      "2200/2200 [==============================] - 41s 19ms/sample - loss: -1388.8368 - accuracy: 0.1592 - val_loss: -1009.7497 - val_accuracy: 0.2610\n",
      "Epoch 5/50\n",
      "2176/2200 [============================>.] - ETA: 0s - loss: -1740.0110 - accuracy: 0.1508\n",
      "Epoch 00005: val_loss improved from -1009.74966 to -1041.21083, saving model to model-best.h5\n",
      "2200/2200 [==============================] - 41s 19ms/sample - loss: -1741.2664 - accuracy: 0.1508 - val_loss: -1041.2108 - val_accuracy: 0.2815\n",
      "Epoch 6/50\n",
      "2176/2200 [============================>.] - ETA: 0s - loss: -2037.3064 - accuracy: 0.1441\n",
      "Epoch 00006: val_loss improved from -1041.21083 to -1259.93541, saving model to model-best.h5\n",
      "2200/2200 [==============================] - 41s 19ms/sample - loss: -2038.7562 - accuracy: 0.1440 - val_loss: -1259.9354 - val_accuracy: 0.2252\n",
      "Epoch 7/50\n",
      "2176/2200 [============================>.] - ETA: 0s - loss: -2218.1077 - accuracy: 0.1337\n",
      "Epoch 00007: val_loss improved from -1259.93541 to -1351.18142, saving model to model-best.h5\n",
      "2200/2200 [==============================] - 41s 19ms/sample - loss: -2217.8873 - accuracy: 0.1338 - val_loss: -1351.1814 - val_accuracy: 0.2949\n",
      "Epoch 8/50\n",
      "2176/2200 [============================>.] - ETA: 0s - loss: -2308.4611 - accuracy: 0.1205\n",
      "Epoch 00008: val_loss improved from -1351.18142 to -2026.11326, saving model to model-best.h5\n",
      "2200/2200 [==============================] - 42s 19ms/sample - loss: -2307.7189 - accuracy: 0.1205 - val_loss: -2026.1133 - val_accuracy: 0.1665\n",
      "Epoch 9/50\n",
      "2176/2200 [============================>.] - ETA: 0s - loss: -2350.7751 - accuracy: 0.1124\n",
      "Epoch 00009: val_loss improved from -2026.11326 to -2231.08195, saving model to model-best.h5\n",
      "2200/2200 [==============================] - 46s 21ms/sample - loss: -2350.6851 - accuracy: 0.1125 - val_loss: -2231.0820 - val_accuracy: 0.1446\n",
      "Epoch 10/50\n",
      "2176/2200 [============================>.] - ETA: 0s - loss: -2360.7881 - accuracy: 0.1070\n",
      "Epoch 00010: val_loss did not improve from -2231.08195\n",
      "2200/2200 [==============================] - 43s 19ms/sample - loss: -2364.1280 - accuracy: 0.1069 - val_loss: -2176.4492 - val_accuracy: 0.2002\n",
      "Epoch 11/50\n",
      "2176/2200 [============================>.] - ETA: 0s - loss: -2369.8825 - accuracy: 0.1012\n",
      "Epoch 00011: val_loss improved from -2231.08195 to -2294.31637, saving model to model-best.h5\n",
      "2200/2200 [==============================] - 41s 19ms/sample - loss: -2372.6353 - accuracy: 0.1011 - val_loss: -2294.3164 - val_accuracy: 0.1442\n",
      "Epoch 12/50\n",
      "2176/2200 [============================>.] - ETA: 0s - loss: -2377.1366 - accuracy: 0.1019\n",
      "Epoch 00012: val_loss did not improve from -2294.31637\n",
      "2200/2200 [==============================] - 41s 19ms/sample - loss: -2375.8796 - accuracy: 0.1019 - val_loss: -2292.1398 - val_accuracy: 0.1456\n",
      "Epoch 13/50\n",
      "2176/2200 [============================>.] - ETA: 0s - loss: -2378.6703 - accuracy: 0.0981\n",
      "Epoch 00013: val_loss improved from -2294.31637 to -2305.87142, saving model to model-best.h5\n",
      "2200/2200 [==============================] - 42s 19ms/sample - loss: -2379.3352 - accuracy: 0.0980 - val_loss: -2305.8714 - val_accuracy: 0.1214\n",
      "Epoch 14/50\n",
      "2176/2200 [============================>.] - ETA: 0s - loss: -2381.6340 - accuracy: 0.1006\n",
      "Epoch 00014: val_loss did not improve from -2305.87142\n",
      "2200/2200 [==============================] - 41s 19ms/sample - loss: -2380.1867 - accuracy: 0.1009 - val_loss: -2303.1087 - val_accuracy: 0.1477\n",
      "Epoch 15/50\n",
      "2176/2200 [============================>.] - ETA: 0s - loss: -2381.3786 - accuracy: 0.1033\n",
      "Epoch 00015: val_loss improved from -2305.87142 to -2308.66219, saving model to model-best.h5\n",
      "2200/2200 [==============================] - 41s 19ms/sample - loss: -2381.7645 - accuracy: 0.1034 - val_loss: -2308.6622 - val_accuracy: 0.1427\n",
      "Epoch 16/50\n",
      "2176/2200 [============================>.] - ETA: 0s - loss: -2382.0656 - accuracy: 0.1048\n",
      "Epoch 00016: val_loss improved from -2308.66219 to -2310.57148, saving model to model-best.h5\n",
      "2200/2200 [==============================] - 41s 19ms/sample - loss: -2381.3098 - accuracy: 0.1050 - val_loss: -2310.5715 - val_accuracy: 0.1158\n",
      "Epoch 17/50\n",
      "2176/2200 [============================>.] - ETA: 0s - loss: -2379.7553 - accuracy: 0.1035\n",
      "Epoch 00017: val_loss did not improve from -2310.57148\n",
      "2200/2200 [==============================] - 42s 19ms/sample - loss: -2381.6131 - accuracy: 0.1035 - val_loss: -2303.5033 - val_accuracy: 0.1587\n",
      "Epoch 18/50\n",
      "2176/2200 [============================>.] - ETA: 0s - loss: -2385.4973 - accuracy: 0.1069\n",
      "Epoch 00018: val_loss did not improve from -2310.57148\n",
      "2200/2200 [==============================] - 41s 19ms/sample - loss: -2382.2495 - accuracy: 0.1070 - val_loss: -2304.3965 - val_accuracy: 0.1546\n",
      "Epoch 19/50\n",
      "2176/2200 [============================>.] - ETA: 0s - loss: -2384.5513 - accuracy: 0.1087\n",
      "Epoch 00019: val_loss improved from -2310.57148 to -2311.41078, saving model to model-best.h5\n",
      "2200/2200 [==============================] - 41s 19ms/sample - loss: -2382.9757 - accuracy: 0.1088 - val_loss: -2311.4108 - val_accuracy: 0.1241\n",
      "Epoch 20/50\n",
      "2176/2200 [============================>.] - ETA: 0s - loss: -2384.8478 - accuracy: 0.1110\n",
      "Epoch 00020: val_loss did not improve from -2311.41078\n",
      "2200/2200 [==============================] - 41s 19ms/sample - loss: -2382.4439 - accuracy: 0.1113 - val_loss: -2294.5032 - val_accuracy: 0.1667\n",
      "Epoch 21/50\n",
      "2176/2200 [============================>.] - ETA: 0s - loss: -2381.5889 - accuracy: 0.1119\n",
      "Epoch 00021: val_loss did not improve from -2311.41078\n",
      "2200/2200 [==============================] - 41s 19ms/sample - loss: -2382.2695 - accuracy: 0.1118 - val_loss: -2310.7243 - val_accuracy: 0.1298\n",
      "Epoch 22/50\n",
      "2176/2200 [============================>.] - ETA: 0s - loss: -2383.0254 - accuracy: 0.1137\n",
      "Epoch 00022: val_loss did not improve from -2311.41078\n",
      "2200/2200 [==============================] - 41s 19ms/sample - loss: -2382.8103 - accuracy: 0.1137 - val_loss: -2310.5776 - val_accuracy: 0.1379\n",
      "Epoch 23/50\n",
      "2176/2200 [============================>.] - ETA: 0s - loss: -2378.5152 - accuracy: 0.1183\n",
      "Epoch 00023: val_loss improved from -2311.41078 to -2311.80264, saving model to model-best.h5\n",
      "2200/2200 [==============================] - 42s 19ms/sample - loss: -2382.4159 - accuracy: 0.1181 - val_loss: -2311.8026 - val_accuracy: 0.1451\n",
      "Epoch 24/50\n",
      "2176/2200 [============================>.] - ETA: 0s - loss: -2381.3707 - accuracy: 0.1185\n",
      "Epoch 00024: val_loss did not improve from -2311.80264\n",
      "2200/2200 [==============================] - 41s 19ms/sample - loss: -2382.8218 - accuracy: 0.1184 - val_loss: -2310.1344 - val_accuracy: 0.1510\n",
      "Epoch 25/50\n",
      "2176/2200 [============================>.] - ETA: 0s - loss: -2378.8345 - accuracy: 0.1174\n",
      "Epoch 00025: val_loss did not improve from -2311.80264\n",
      "2200/2200 [==============================] - 41s 18ms/sample - loss: -2381.7671 - accuracy: 0.1173 - val_loss: -2307.5683 - val_accuracy: 0.1425\n",
      "Epoch 26/50\n"
     ]
    },
    {
     "name": "stdout",
     "output_type": "stream",
     "text": [
      "2176/2200 [============================>.] - ETA: 0s - loss: -2383.5755 - accuracy: 0.1206\n",
      "Epoch 00026: val_loss did not improve from -2311.80264\n",
      "2200/2200 [==============================] - 41s 19ms/sample - loss: -2382.9317 - accuracy: 0.1205 - val_loss: -2310.7096 - val_accuracy: 0.1461\n",
      "Epoch 27/50\n",
      "2176/2200 [============================>.] - ETA: 0s - loss: -2384.5272 - accuracy: 0.1183\n",
      "Epoch 00027: val_loss improved from -2311.80264 to -2312.04676, saving model to model-best.h5\n",
      "2200/2200 [==============================] - 41s 19ms/sample - loss: -2383.0838 - accuracy: 0.1186 - val_loss: -2312.0468 - val_accuracy: 0.1403\n",
      "Epoch 28/50\n",
      "2176/2200 [============================>.] - ETA: 0s - loss: -2385.1223 - accuracy: 0.1261\n",
      "Epoch 00028: val_loss did not improve from -2312.04676\n",
      "2200/2200 [==============================] - 41s 19ms/sample - loss: -2383.2490 - accuracy: 0.1263 - val_loss: -2309.6875 - val_accuracy: 0.1622\n",
      "Epoch 29/50\n",
      "2176/2200 [============================>.] - ETA: 0s - loss: -2379.2632 - accuracy: 0.1302\n",
      "Epoch 00029: val_loss did not improve from -2312.04676\n",
      "2200/2200 [==============================] - 40s 18ms/sample - loss: -2383.1895 - accuracy: 0.1301 - val_loss: -2311.2532 - val_accuracy: 0.1591\n",
      "Epoch 30/50\n",
      "2176/2200 [============================>.] - ETA: 0s - loss: -2381.9497 - accuracy: 0.1290\n",
      "Epoch 00030: val_loss did not improve from -2312.04676\n",
      "2200/2200 [==============================] - 41s 19ms/sample - loss: -2382.8907 - accuracy: 0.1288 - val_loss: -2310.2821 - val_accuracy: 0.1502\n",
      "Epoch 31/50\n",
      "2176/2200 [============================>.] - ETA: 0s - loss: -2384.7572 - accuracy: 0.1258\n",
      "Epoch 00031: val_loss did not improve from -2312.04676\n",
      "2200/2200 [==============================] - 41s 19ms/sample - loss: -2382.9869 - accuracy: 0.1258 - val_loss: -2310.0279 - val_accuracy: 0.1527\n",
      "Epoch 32/50\n",
      "2176/2200 [============================>.] - ETA: 0s - loss: -2381.1639 - accuracy: 0.1319\n",
      "Epoch 00032: ReduceLROnPlateau reducing learning rate to 0.00010000000474974513.\n",
      "\n",
      "Epoch 00032: val_loss did not improve from -2312.04676\n",
      "2200/2200 [==============================] - 43s 19ms/sample - loss: -2382.9374 - accuracy: 0.1318 - val_loss: -2309.0126 - val_accuracy: 0.1690\n",
      "Epoch 33/50\n",
      "2176/2200 [============================>.] - ETA: 0s - loss: -2385.4356 - accuracy: 0.1286\n",
      "Epoch 00033: val_loss did not improve from -2312.04676\n",
      "2200/2200 [==============================] - 40s 18ms/sample - loss: -2382.7878 - accuracy: 0.1285 - val_loss: -2310.9601 - val_accuracy: 0.1643\n",
      "Epoch 34/50\n",
      "2176/2200 [============================>.] - ETA: 0s - loss: -2383.3085 - accuracy: 0.1279\n",
      "Epoch 00034: val_loss did not improve from -2312.04676\n",
      "2200/2200 [==============================] - 40s 18ms/sample - loss: -2383.3039 - accuracy: 0.1282 - val_loss: -2311.4599 - val_accuracy: 0.1567\n",
      "Epoch 35/50\n",
      "2176/2200 [============================>.] - ETA: 0s - loss: -2384.7857 - accuracy: 0.1307\n",
      "Epoch 00035: val_loss did not improve from -2312.04676\n",
      "2200/2200 [==============================] - 41s 18ms/sample - loss: -2383.2790 - accuracy: 0.1306 - val_loss: -2311.6089 - val_accuracy: 0.1560\n",
      "Epoch 36/50\n",
      "2176/2200 [============================>.] - ETA: 0s - loss: -2381.2870 - accuracy: 0.1314\n",
      "Epoch 00036: val_loss did not improve from -2312.04676\n",
      "2200/2200 [==============================] - 40s 18ms/sample - loss: -2383.3053 - accuracy: 0.1313 - val_loss: -2311.6602 - val_accuracy: 0.1569\n",
      "Epoch 37/50\n",
      "2176/2200 [============================>.] - ETA: 0s - loss: -2385.5987 - accuracy: 0.1325\n",
      "Epoch 00037: ReduceLROnPlateau reducing learning rate to 1.0000000474974514e-05.\n",
      "\n",
      "Epoch 00037: val_loss did not improve from -2312.04676\n",
      "2200/2200 [==============================] - 40s 18ms/sample - loss: -2383.3142 - accuracy: 0.1325 - val_loss: -2311.7301 - val_accuracy: 0.1567\n",
      "Epoch 00037: early stopping\n"
     ]
    }
   ],
   "source": [
    "hist = model.fit(X_train, y_train, batch_size=32, epochs=50, callbacks=callbacks\n",
    "                 , validation_data=(X_val, y_val))"
   ]
  },
  {
   "cell_type": "code",
   "execution_count": 171,
   "metadata": {},
   "outputs": [
    {
     "data": {
      "text/plain": [
       "[<matplotlib.lines.Line2D at 0x1a371b07b8>]"
      ]
     },
     "execution_count": 171,
     "metadata": {},
     "output_type": "execute_result"
    },
    {
     "data": {
      "image/png": "[encoded data removed]",
      "text/plain": [
       "<Figure size 432x288 with 1 Axes>"
      ]
     },
     "metadata": {
      "needs_background": "light"
     },
     "output_type": "display_data"
    }
   ],
   "source": [
    "plt.plot(hist.history['accuracy'])\n",
    "plt.plot(hist.history['val_accuracy'])"
   ]
  },
  {
   "cell_type": "code",
   "execution_count": 172,
   "metadata": {},
   "outputs": [],
   "source": [
    "model.load_weights('model-best.h5')"
   ]
  }
 ],
 "metadata": {
  "kernelspec": {
   "display_name": "Python 3",
   "language": "python",
   "name": "python3"
  },
  "language_info": {
   "codemirror_mode": {
    "name": "ipython",
    "version": 3
   },
   "file_extension": ".py",
   "mimetype": "text/x-python",
   "name": "python",
   "nbconvert_exporter": "python",
   "pygments_lexer": "ipython3",
   "version": "3.6.9"
  }
 },
 "nbformat": 4,
 "nbformat_minor": 2
}
