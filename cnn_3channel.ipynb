{
 "cells": [
  {
   "cell_type": "code",
   "execution_count": 1,
   "metadata": {},
   "outputs": [],
   "source": [
    "import pandas as pd\n",
    "import numpy as np \n",
    "import matplotlib.pyplot as plt\n",
    "import glob\n",
    "from PIL import Image"
   ]
  },
  {
   "cell_type": "code",
   "execution_count": 2,
   "metadata": {},
   "outputs": [],
   "source": [
    "from sklearn.model_selection import train_test_split\n",
    "from sklearn.preprocessing import LabelBinarizer\n"
   ]
  },
  {
   "cell_type": "code",
   "execution_count": 3,
   "metadata": {},
   "outputs": [
    {
     "name": "stderr",
     "output_type": "stream",
     "text": [
      "Using TensorFlow backend.\n"
     ]
    }
   ],
   "source": [
    "from tensorflow.keras.models import Sequential \n",
    "from tensorflow.keras.backend import set_image_data_format \n",
    "from tensorflow.keras.layers import Conv2D, MaxPool2D, BatchNormalization \n",
    "from tensorflow.keras.layers import Conv2D, MaxPooling2D\n",
    "from tensorflow.keras.layers import Activation, Dropout, Flatten, Dense, Input \n",
    "from tensorflow.keras import optimizers, losses, utils \n",
    "from keras.preprocessing.image import ImageDataGenerator\n",
    "from tensorflow.keras.callbacks import EarlyStopping, ModelCheckpoint, ReduceLROnPlateau"
   ]
  },
  {
   "cell_type": "markdown",
   "metadata": {},
   "source": [
    "### Transforms:\n",
    "https://link.springer.com/content/pdf/bbm%3A978-1-4842-3516-4%2F1.pdf"
   ]
  },
  {
   "cell_type": "code",
   "execution_count": 14,
   "metadata": {},
   "outputs": [],
   "source": [
    "datagen = ImageDataGenerator(\n",
    "        rotation_range=20,\n",
    "        zoom_range=0.15,\n",
    "        width_shift_range=0.2,\n",
    "        height_shift_range=0.2,\n",
    "        horizontal_flip=True,\n",
    "        #zca_whitening=True,\n",
    "        #featurewise_center=True,\n",
    "        vertical_flip=True,\n",
    "        rescale = 1./255,\n",
    "        validation_split=0.15,\n",
    "        fill_mode=\"nearest\")"
   ]
  },
  {
   "cell_type": "code",
   "execution_count": null,
   "metadata": {},
   "outputs": [],
   "source": [
    "datagen = ImageDataGenerator(rescale = 1./255, validation_split=0.2)"
   ]
  },
  {
   "cell_type": "code",
   "execution_count": 15,
   "metadata": {},
   "outputs": [
    {
     "name": "stdout",
     "output_type": "stream",
     "text": [
      "Found 22950 images belonging to 10 classes.\n"
     ]
    }
   ],
   "source": [
    "training = datagen.flow_from_directory(directory = \"data/\",\n",
    "                                   target_size = (64,64),\n",
    "                                   color_mode=\"rgb\",\n",
    "                                   class_mode = \"categorical\",\n",
    "                                   batch_size = 256,\n",
    "                                   subset='training',\n",
    "                                   seed=117)"
   ]
  },
  {
   "cell_type": "code",
   "execution_count": 16,
   "metadata": {},
   "outputs": [
    {
     "name": "stdout",
     "output_type": "stream",
     "text": [
      "Found 4050 images belonging to 10 classes.\n"
     ]
    }
   ],
   "source": [
    "validation = datagen.flow_from_directory(directory = \"data/\",\n",
    "                                   target_size = (64,64),\n",
    "                                   color_mode=\"rgb\",\n",
    "                                   class_mode = \"categorical\",\n",
    "                                   batch_size = 256,\n",
    "                                   subset='validation',\n",
    "                                   seed=117)"
   ]
  },
  {
   "cell_type": "code",
   "execution_count": 7,
   "metadata": {},
   "outputs": [
    {
     "data": {
      "text/plain": [
       "{'AnnualCrop': 0,\n",
       " 'Forest': 1,\n",
       " 'HerbaceousVegetation': 2,\n",
       " 'Highway': 3,\n",
       " 'Industrial': 4,\n",
       " 'Pasture': 5,\n",
       " 'PermanentCrop': 6,\n",
       " 'Residential': 7,\n",
       " 'River': 8,\n",
       " 'SeaLake': 9}"
      ]
     },
     "execution_count": 7,
     "metadata": {},
     "output_type": "execute_result"
    }
   ],
   "source": [
    "training.class_indices"
   ]
  },
  {
   "cell_type": "code",
   "execution_count": null,
   "metadata": {},
   "outputs": [],
   "source": [
    "plt.imshow(training[13][0][52])"
   ]
  },
  {
   "cell_type": "code",
   "execution_count": null,
   "metadata": {},
   "outputs": [],
   "source": [
    "#Unused old block \n",
    "X=[]\n",
    "y=[]"
   ]
  },
  {
   "cell_type": "code",
   "execution_count": null,
   "metadata": {},
   "outputs": [],
   "source": [
    "#Unused old block \n",
    "files = glob.glob(\"data/Highway/*.jpg\")\n",
    "for file in files:\n",
    "    img = np.asarray(Image.open(file))\n",
    "    X.append(img)\n",
    "    y.append('Highway')"
   ]
  },
  {
   "cell_type": "code",
   "execution_count": null,
   "metadata": {},
   "outputs": [],
   "source": [
    "#Unused old block \n",
    "X=np.asarray(X)"
   ]
  },
  {
   "cell_type": "code",
   "execution_count": null,
   "metadata": {},
   "outputs": [],
   "source": [
    "#Unused old block \n",
    "plt.imshow(X[4567].reshape(64, 64,3),cmap='Greens')"
   ]
  },
  {
   "cell_type": "code",
   "execution_count": null,
   "metadata": {},
   "outputs": [],
   "source": [
    "#Unused old block \n",
    "X_train, X_test, y_train, y_test = train_test_split(X, y, test_size=0.2, random_state=117)"
   ]
  },
  {
   "cell_type": "code",
   "execution_count": null,
   "metadata": {},
   "outputs": [],
   "source": [
    "#Unused old block \n",
    "X_train = X_train.astype('float32')\n",
    "X_test = X_test.astype('float32')"
   ]
  },
  {
   "cell_type": "code",
   "execution_count": null,
   "metadata": {},
   "outputs": [],
   "source": [
    "#Unused old block \n",
    "le=LabelEncoder()\n",
    "y_train = le.fit_transform(y_train)\n",
    "y_test = le.fit_transform(y_test)"
   ]
  },
  {
   "cell_type": "code",
   "execution_count": null,
   "metadata": {},
   "outputs": [],
   "source": [
    "#Unused old block \n",
    "le.classes_"
   ]
  },
  {
   "cell_type": "code",
   "execution_count": 8,
   "metadata": {},
   "outputs": [],
   "source": [
    "cnn_model = Sequential()\n",
    "cnn_model.add(Input(shape=(64, 64, 3)))\n",
    "cnn_model.add(Conv2D(filters = 10,            \n",
    "                     kernel_size = 3,       \n",
    "                     activation='relu'),)\n",
    "cnn_model.add(Conv2D(filters = 7,            \n",
    "                     kernel_size = 3,       \n",
    "                     activation='relu'),)\n",
    "cnn_model.add(MaxPooling2D(pool_size=(2,2)))\n",
    "cnn_model.add(Conv2D(5,\n",
    "                     kernel_size=3,\n",
    "                     activation='relu'),\n",
    "             )\n",
    "cnn_model.add(MaxPooling2D(pool_size=(2,2)))\n",
    "\n",
    "cnn_model.add(Flatten())\n",
    "cnn_model.add(Dense(40, activation='relu'))\n",
    "#cnn_model.add(Dropout(0.5))\n",
    "cnn_model.add(Dense(20, activation='relu'))\n",
    "#cnn_model.add(Dropout(0.3))\n",
    "cnn_model.add(Dense(15, activation='relu'))\n",
    "#cnn_model.add(Dropout(0.2))\n",
    "cnn_model.add(Dense(len(training.class_indices), activation='softmax'))"
   ]
  },
  {
   "cell_type": "code",
   "execution_count": 9,
   "metadata": {},
   "outputs": [
    {
     "name": "stdout",
     "output_type": "stream",
     "text": [
      "Model: \"sequential\"\n",
      "_________________________________________________________________\n",
      "Layer (type)                 Output Shape              Param #   \n",
      "=================================================================\n",
      "conv2d (Conv2D)              (None, 62, 62, 10)        280       \n",
      "_________________________________________________________________\n",
      "conv2d_1 (Conv2D)            (None, 60, 60, 7)         637       \n",
      "_________________________________________________________________\n",
      "max_pooling2d (MaxPooling2D) (None, 30, 30, 7)         0         \n",
      "_________________________________________________________________\n",
      "conv2d_2 (Conv2D)            (None, 28, 28, 5)         320       \n",
      "_________________________________________________________________\n",
      "max_pooling2d_1 (MaxPooling2 (None, 14, 14, 5)         0         \n",
      "_________________________________________________________________\n",
      "flatten (Flatten)            (None, 980)               0         \n",
      "_________________________________________________________________\n",
      "dense (Dense)                (None, 40)                39240     \n",
      "_________________________________________________________________\n",
      "dense_1 (Dense)              (None, 20)                820       \n",
      "_________________________________________________________________\n",
      "dense_2 (Dense)              (None, 15)                315       \n",
      "_________________________________________________________________\n",
      "dense_3 (Dense)              (None, 10)                160       \n",
      "=================================================================\n",
      "Total params: 41,772\n",
      "Trainable params: 41,772\n",
      "Non-trainable params: 0\n",
      "_________________________________________________________________\n"
     ]
    }
   ],
   "source": [
    "cnn_model.summary()"
   ]
  },
  {
   "cell_type": "code",
   "execution_count": 17,
   "metadata": {},
   "outputs": [],
   "source": [
    "\n",
    "cnn_model.compile(loss='categorical_crossentropy', optimizer='adam', metrics=['accuracy'])"
   ]
  },
  {
   "cell_type": "code",
   "execution_count": 18,
   "metadata": {},
   "outputs": [],
   "source": [
    "callbacks = [\n",
    "    EarlyStopping(patience=10, verbose=1, monitor='val_accuracy'),\n",
    "    ReduceLROnPlateau(factor=0.1, patience=5, min_lr=0.00001, verbose=1),\n",
    "    ModelCheckpoint('model-best.h5', verbose=1, save_best_only=True, monitor='val_accuracy')\n",
    "]"
   ]
  },
  {
   "cell_type": "code",
   "execution_count": 19,
   "metadata": {},
   "outputs": [
    {
     "name": "stdout",
     "output_type": "stream",
     "text": [
      "Epoch 1/20\n",
      "89/90 [============================>.] - ETA: 0s - loss: 1.4304 - accuracy: 0.4331\n",
      "Epoch 00001: val_accuracy improved from -inf to 0.46864, saving model to model-best.h5\n",
      "90/90 [==============================] - 92s 1s/step - loss: 1.4289 - accuracy: 0.4339 - val_loss: 1.3542 - val_accuracy: 0.4686\n",
      "Epoch 2/20\n",
      "89/90 [============================>.] - ETA: 0s - loss: 1.3479 - accuracy: 0.4688\n",
      "Epoch 00002: val_accuracy improved from 0.46864 to 0.47457, saving model to model-best.h5\n",
      "90/90 [==============================] - 88s 976ms/step - loss: 1.3481 - accuracy: 0.4684 - val_loss: 1.3395 - val_accuracy: 0.4746\n",
      "Epoch 3/20\n",
      "89/90 [============================>.] - ETA: 0s - loss: 1.3131 - accuracy: 0.4827\n",
      "Epoch 00003: val_accuracy improved from 0.47457 to 0.48667, saving model to model-best.h5\n",
      "90/90 [==============================] - 85s 946ms/step - loss: 1.3121 - accuracy: 0.4827 - val_loss: 1.2936 - val_accuracy: 0.4867\n",
      "Epoch 4/20\n",
      "89/90 [============================>.] - ETA: 0s - loss: 1.2924 - accuracy: 0.4963\n",
      "Epoch 00004: val_accuracy improved from 0.48667 to 0.50593, saving model to model-best.h5\n",
      "90/90 [==============================] - 94s 1s/step - loss: 1.2909 - accuracy: 0.4966 - val_loss: 1.2501 - val_accuracy: 0.5059\n",
      "Epoch 5/20\n",
      "89/90 [============================>.] - ETA: 0s - loss: 1.2435 - accuracy: 0.5110\n",
      "Epoch 00005: val_accuracy improved from 0.50593 to 0.51506, saving model to model-best.h5\n",
      "90/90 [==============================] - 93s 1s/step - loss: 1.2441 - accuracy: 0.5105 - val_loss: 1.2168 - val_accuracy: 0.5151\n",
      "Epoch 6/20\n",
      "89/90 [============================>.] - ETA: 0s - loss: 1.2392 - accuracy: 0.5108\n",
      "Epoch 00006: val_accuracy improved from 0.51506 to 0.53580, saving model to model-best.h5\n",
      "90/90 [==============================] - 93s 1s/step - loss: 1.2389 - accuracy: 0.5112 - val_loss: 1.2060 - val_accuracy: 0.5358\n",
      "Epoch 7/20\n",
      "89/90 [============================>.] - ETA: 0s - loss: 1.2323 - accuracy: 0.5178\n",
      "Epoch 00007: val_accuracy did not improve from 0.53580\n",
      "90/90 [==============================] - 96s 1s/step - loss: 1.2332 - accuracy: 0.5179 - val_loss: 1.2104 - val_accuracy: 0.5195\n",
      "Epoch 8/20\n",
      "89/90 [============================>.] - ETA: 0s - loss: 1.2118 - accuracy: 0.5264\n",
      "Epoch 00008: val_accuracy did not improve from 0.53580\n",
      "90/90 [==============================] - 94s 1s/step - loss: 1.2109 - accuracy: 0.5265 - val_loss: 1.1934 - val_accuracy: 0.5259\n",
      "Epoch 9/20\n",
      "89/90 [============================>.] - ETA: 0s - loss: 1.1756 - accuracy: 0.5381\n",
      "Epoch 00009: val_accuracy did not improve from 0.53580\n",
      "90/90 [==============================] - 86s 960ms/step - loss: 1.1762 - accuracy: 0.5383 - val_loss: 1.1696 - val_accuracy: 0.5309\n",
      "Epoch 10/20\n",
      "89/90 [============================>.] - ETA: 0s - loss: 1.1930 - accuracy: 0.5368\n",
      "Epoch 00010: val_accuracy improved from 0.53580 to 0.53975, saving model to model-best.h5\n",
      "90/90 [==============================] - 91s 1s/step - loss: 1.1933 - accuracy: 0.5371 - val_loss: 1.1548 - val_accuracy: 0.5398\n",
      "Epoch 11/20\n",
      "89/90 [============================>.] - ETA: 0s - loss: 1.1603 - accuracy: 0.5495\n",
      "Epoch 00011: val_accuracy did not improve from 0.53975\n",
      "90/90 [==============================] - 91s 1s/step - loss: 1.1600 - accuracy: 0.5497 - val_loss: 1.1634 - val_accuracy: 0.5378\n",
      "Epoch 12/20\n",
      "89/90 [============================>.] - ETA: 0s - loss: 1.1674 - accuracy: 0.5475\n",
      "Epoch 00012: val_accuracy improved from 0.53975 to 0.55556, saving model to model-best.h5\n",
      "90/90 [==============================] - 92s 1s/step - loss: 1.1676 - accuracy: 0.5472 - val_loss: 1.1296 - val_accuracy: 0.5556\n",
      "Epoch 13/20\n",
      "89/90 [============================>.] - ETA: 0s - loss: 1.1422 - accuracy: 0.5572\n",
      "Epoch 00013: val_accuracy improved from 0.55556 to 0.55901, saving model to model-best.h5\n",
      "90/90 [==============================] - 86s 957ms/step - loss: 1.1424 - accuracy: 0.5570 - val_loss: 1.1273 - val_accuracy: 0.5590\n",
      "Epoch 14/20\n",
      "89/90 [============================>.] - ETA: 0s - loss: 1.1281 - accuracy: 0.5622\n",
      "Epoch 00014: val_accuracy improved from 0.55901 to 0.57778, saving model to model-best.h5\n",
      "90/90 [==============================] - 97s 1s/step - loss: 1.1280 - accuracy: 0.5623 - val_loss: 1.0804 - val_accuracy: 0.5778\n",
      "Epoch 15/20\n",
      "89/90 [============================>.] - ETA: 0s - loss: 1.0991 - accuracy: 0.5769\n",
      "Epoch 00015: val_accuracy improved from 0.57778 to 0.58173, saving model to model-best.h5\n",
      "90/90 [==============================] - 90s 999ms/step - loss: 1.0988 - accuracy: 0.5770 - val_loss: 1.0921 - val_accuracy: 0.5817\n",
      "Epoch 16/20\n",
      "89/90 [============================>.] - ETA: 0s - loss: 1.0718 - accuracy: 0.5855\n",
      "Epoch 00016: val_accuracy improved from 0.58173 to 0.59802, saving model to model-best.h5\n",
      "90/90 [==============================] - 89s 991ms/step - loss: 1.0707 - accuracy: 0.5860 - val_loss: 1.0445 - val_accuracy: 0.5980\n",
      "Epoch 17/20\n",
      "89/90 [============================>.] - ETA: 0s - loss: 1.0500 - accuracy: 0.6026\n",
      "Epoch 00017: val_accuracy did not improve from 0.59802\n",
      "90/90 [==============================] - 85s 941ms/step - loss: 1.0494 - accuracy: 0.6030 - val_loss: 1.0523 - val_accuracy: 0.5941\n",
      "Epoch 18/20\n",
      "89/90 [============================>.] - ETA: 0s - loss: 1.0210 - accuracy: 0.6138\n",
      "Epoch 00018: val_accuracy improved from 0.59802 to 0.63926, saving model to model-best.h5\n",
      "90/90 [==============================] - 87s 964ms/step - loss: 1.0195 - accuracy: 0.6141 - val_loss: 0.9699 - val_accuracy: 0.6393\n",
      "Epoch 19/20\n",
      "89/90 [============================>.] - ETA: 0s - loss: 0.9805 - accuracy: 0.6348\n",
      "Epoch 00019: val_accuracy improved from 0.63926 to 0.64494, saving model to model-best.h5\n",
      "90/90 [==============================] - 86s 952ms/step - loss: 0.9812 - accuracy: 0.6349 - val_loss: 0.9511 - val_accuracy: 0.6449\n",
      "Epoch 20/20\n",
      "89/90 [============================>.] - ETA: 0s - loss: 0.9469 - accuracy: 0.6512\n",
      "Epoch 00020: val_accuracy improved from 0.64494 to 0.64938, saving model to model-best.h5\n",
      "90/90 [==============================] - 85s 944ms/step - loss: 0.9464 - accuracy: 0.6515 - val_loss: 0.9517 - val_accuracy: 0.6494\n"
     ]
    }
   ],
   "source": [
    "history = cnn_model.fit_generator(generator=training, \n",
    "                    validation_data=validation,\n",
    "                    callbacks=callbacks,\n",
    "                    epochs=20,\n",
    "                    verbose=1)"
   ]
  },
  {
   "cell_type": "code",
   "execution_count": 78,
   "metadata": {},
   "outputs": [
    {
     "name": "stdout",
     "output_type": "stream",
     "text": [
      "Epoch 1/30\n",
      "89/90 [============================>.] - ETA: 0s - loss: 0.9228 - accuracy: 0.6656\n",
      "Epoch 00001: val_accuracy improved from 0.64938 to 0.66765, saving model to model-best.h5\n",
      "90/90 [==============================] - 84s 939ms/step - loss: 0.9221 - accuracy: 0.6658 - val_loss: 0.9135 - val_accuracy: 0.6677\n",
      "Epoch 2/30\n",
      "89/90 [============================>.] - ETA: 0s - loss: 0.8917 - accuracy: 0.6767\n",
      "Epoch 00002: val_accuracy improved from 0.66765 to 0.69037, saving model to model-best.h5\n",
      "90/90 [==============================] - 81s 895ms/step - loss: 0.8910 - accuracy: 0.6772 - val_loss: 0.8769 - val_accuracy: 0.6904\n",
      "Epoch 3/30\n",
      "89/90 [============================>.] - ETA: 0s - loss: 0.8857 - accuracy: 0.6826\n",
      "Epoch 00003: val_accuracy did not improve from 0.69037\n",
      "90/90 [==============================] - 80s 887ms/step - loss: 0.8850 - accuracy: 0.6829 - val_loss: 0.8581 - val_accuracy: 0.6859\n",
      "Epoch 4/30\n",
      "89/90 [============================>.] - ETA: 0s - loss: 0.8586 - accuracy: 0.6919\n",
      "Epoch 00004: val_accuracy improved from 0.69037 to 0.69778, saving model to model-best.h5\n",
      "90/90 [==============================] - 80s 886ms/step - loss: 0.8589 - accuracy: 0.6919 - val_loss: 0.8530 - val_accuracy: 0.6978\n",
      "Epoch 5/30\n",
      "89/90 [============================>.] - ETA: 0s - loss: 0.8306 - accuracy: 0.7002\n",
      "Epoch 00005: val_accuracy improved from 0.69778 to 0.71679, saving model to model-best.h5\n",
      "90/90 [==============================] - 81s 895ms/step - loss: 0.8298 - accuracy: 0.7003 - val_loss: 0.8016 - val_accuracy: 0.7168\n",
      "Epoch 6/30\n",
      "89/90 [============================>.] - ETA: 1s - loss: 0.8287 - accuracy: 0.7022\n",
      "Epoch 00006: val_accuracy did not improve from 0.71679\n",
      "90/90 [==============================] - 129s 1s/step - loss: 0.8302 - accuracy: 0.7018 - val_loss: 0.8348 - val_accuracy: 0.6941\n",
      "Epoch 7/30\n",
      "89/90 [============================>.] - ETA: 1s - loss: 0.8195 - accuracy: 0.7053\n",
      "Epoch 00007: val_accuracy did not improve from 0.71679\n",
      "90/90 [==============================] - 116s 1s/step - loss: 0.8200 - accuracy: 0.7051 - val_loss: 0.7902 - val_accuracy: 0.7146\n",
      "Epoch 8/30\n",
      "89/90 [============================>.] - ETA: 0s - loss: 0.8061 - accuracy: 0.7127\n",
      "Epoch 00008: val_accuracy did not improve from 0.71679\n",
      "90/90 [==============================] - 83s 923ms/step - loss: 0.8049 - accuracy: 0.7129 - val_loss: 0.7865 - val_accuracy: 0.7094\n",
      "Epoch 9/30\n",
      "89/90 [============================>.] - ETA: 0s - loss: 0.7798 - accuracy: 0.7198\n",
      "Epoch 00009: val_accuracy did not improve from 0.71679\n",
      "90/90 [==============================] - 79s 875ms/step - loss: 0.7802 - accuracy: 0.7199 - val_loss: 0.7783 - val_accuracy: 0.7153\n",
      "Epoch 10/30\n",
      "89/90 [============================>.] - ETA: 0s - loss: 0.7827 - accuracy: 0.7176\n",
      "Epoch 00010: val_accuracy improved from 0.71679 to 0.73235, saving model to model-best.h5\n",
      "90/90 [==============================] - 83s 922ms/step - loss: 0.7824 - accuracy: 0.7180 - val_loss: 0.7608 - val_accuracy: 0.7323\n",
      "Epoch 11/30\n",
      "89/90 [============================>.] - ETA: 0s - loss: 0.7937 - accuracy: 0.7144\n",
      "Epoch 00011: val_accuracy improved from 0.73235 to 0.74025, saving model to model-best.h5\n",
      "90/90 [==============================] - 80s 889ms/step - loss: 0.7941 - accuracy: 0.7144 - val_loss: 0.7499 - val_accuracy: 0.7402\n",
      "Epoch 12/30\n",
      "89/90 [============================>.] - ETA: 0s - loss: 0.7741 - accuracy: 0.7211\n",
      "Epoch 00012: val_accuracy did not improve from 0.74025\n",
      "90/90 [==============================] - 78s 871ms/step - loss: 0.7737 - accuracy: 0.7211 - val_loss: 0.7643 - val_accuracy: 0.7235\n",
      "Epoch 13/30\n",
      "89/90 [============================>.] - ETA: 0s - loss: 0.7585 - accuracy: 0.7266\n",
      "Epoch 00013: val_accuracy did not improve from 0.74025\n",
      "90/90 [==============================] - 77s 860ms/step - loss: 0.7590 - accuracy: 0.7261 - val_loss: 0.7758 - val_accuracy: 0.7220\n",
      "Epoch 14/30\n",
      "89/90 [============================>.] - ETA: 0s - loss: 0.7569 - accuracy: 0.7284\n",
      "Epoch 00014: val_accuracy did not improve from 0.74025\n",
      "90/90 [==============================] - 79s 880ms/step - loss: 0.7571 - accuracy: 0.7284 - val_loss: 0.7399 - val_accuracy: 0.7358\n",
      "Epoch 15/30\n",
      "89/90 [============================>.] - ETA: 0s - loss: 0.7531 - accuracy: 0.7299\n",
      "Epoch 00015: val_accuracy did not improve from 0.74025\n",
      "90/90 [==============================] - 78s 861ms/step - loss: 0.7542 - accuracy: 0.7295 - val_loss: 0.7616 - val_accuracy: 0.7289\n",
      "Epoch 16/30\n",
      "89/90 [============================>.] - ETA: 0s - loss: 0.7780 - accuracy: 0.7201\n",
      "Epoch 00016: val_accuracy did not improve from 0.74025\n",
      "90/90 [==============================] - 94s 1s/step - loss: 0.7785 - accuracy: 0.7201 - val_loss: 0.7647 - val_accuracy: 0.7252\n",
      "Epoch 17/30\n",
      "89/90 [============================>.] - ETA: 0s - loss: 0.7427 - accuracy: 0.7324\n",
      "Epoch 00017: val_accuracy did not improve from 0.74025\n",
      "90/90 [==============================] - 85s 942ms/step - loss: 0.7426 - accuracy: 0.7323 - val_loss: 0.7291 - val_accuracy: 0.7375\n",
      "Epoch 18/30\n",
      "89/90 [============================>.] - ETA: 0s - loss: 0.7372 - accuracy: 0.7337\n",
      "Epoch 00018: val_accuracy did not improve from 0.74025\n",
      "90/90 [==============================] - 82s 913ms/step - loss: 0.7382 - accuracy: 0.7332 - val_loss: 0.7419 - val_accuracy: 0.7365\n",
      "Epoch 19/30\n",
      "89/90 [============================>.] - ETA: 0s - loss: 0.7373 - accuracy: 0.7325\n",
      "Epoch 00019: val_accuracy did not improve from 0.74025\n",
      "90/90 [==============================] - 80s 891ms/step - loss: 0.7372 - accuracy: 0.7322 - val_loss: 0.7707 - val_accuracy: 0.7212\n",
      "Epoch 20/30\n",
      "89/90 [============================>.] - ETA: 0s - loss: 0.7414 - accuracy: 0.7330\n",
      "Epoch 00020: val_accuracy did not improve from 0.74025\n",
      "90/90 [==============================] - 80s 885ms/step - loss: 0.7420 - accuracy: 0.7329 - val_loss: 0.7895 - val_accuracy: 0.7175\n",
      "Epoch 21/30\n",
      "89/90 [============================>.] - ETA: 0s - loss: 0.7428 - accuracy: 0.7295\n",
      "Epoch 00021: val_accuracy did not improve from 0.74025\n",
      "90/90 [==============================] - 80s 884ms/step - loss: 0.7423 - accuracy: 0.7295 - val_loss: 0.7575 - val_accuracy: 0.7289\n",
      "Epoch 00021: early stopping\n"
     ]
    }
   ],
   "source": [
    "history = cnn_model.fit_generator( generator=training, \n",
    "                    validation_data=validation,\n",
    "                    callbacks=callbacks,    \n",
    "                    epochs=30,\n",
    "                    verbose=1)"
   ]
  },
  {
   "cell_type": "code",
   "execution_count": 113,
   "metadata": {},
   "outputs": [
    {
     "name": "stdout",
     "output_type": "stream",
     "text": [
      "Epoch 1/10\n",
      "89/90 [============================>.] - ETA: 0s - loss: 0.7445 - accuracy: 0.7316\n",
      "Epoch 00001: val_accuracy did not improve from 0.74025\n",
      "90/90 [==============================] - 83s 926ms/step - loss: 0.7447 - accuracy: 0.7312 - val_loss: 0.7552 - val_accuracy: 0.7284\n",
      "Epoch 2/10\n",
      "89/90 [============================>.] - ETA: 0s - loss: 0.7183 - accuracy: 0.7379\n",
      "Epoch 00002: val_accuracy did not improve from 0.74025\n",
      "90/90 [==============================] - 97s 1s/step - loss: 0.7178 - accuracy: 0.7383 - val_loss: 0.7478 - val_accuracy: 0.7311\n",
      "Epoch 3/10\n",
      "89/90 [============================>.] - ETA: 0s - loss: 0.7304 - accuracy: 0.7332\n",
      "Epoch 00003: val_accuracy did not improve from 0.74025\n",
      "90/90 [==============================] - 88s 972ms/step - loss: 0.7290 - accuracy: 0.7335 - val_loss: 0.7533 - val_accuracy: 0.7336\n",
      "Epoch 4/10\n",
      "89/90 [============================>.] - ETA: 0s - loss: 0.7206 - accuracy: 0.7363\n",
      "Epoch 00004: val_accuracy did not improve from 0.74025\n",
      "90/90 [==============================] - 82s 911ms/step - loss: 0.7217 - accuracy: 0.7359 - val_loss: 0.7286 - val_accuracy: 0.7375\n",
      "Epoch 5/10\n",
      "89/90 [============================>.] - ETA: 0s - loss: 0.7160 - accuracy: 0.7402\n",
      "Epoch 00005: val_accuracy improved from 0.74025 to 0.74370, saving model to model-best.h5\n",
      "90/90 [==============================] - 81s 898ms/step - loss: 0.7158 - accuracy: 0.7400 - val_loss: 0.7178 - val_accuracy: 0.7437\n",
      "Epoch 6/10\n",
      "89/90 [============================>.] - ETA: 0s - loss: 0.7066 - accuracy: 0.7458\n",
      "Epoch 00006: val_accuracy improved from 0.74370 to 0.74642, saving model to model-best.h5\n",
      "90/90 [==============================] - 86s 960ms/step - loss: 0.7065 - accuracy: 0.7457 - val_loss: 0.7021 - val_accuracy: 0.7464\n",
      "Epoch 7/10\n",
      "89/90 [============================>.] - ETA: 0s - loss: 0.7027 - accuracy: 0.7451\n",
      "Epoch 00007: val_accuracy did not improve from 0.74642\n",
      "90/90 [==============================] - 84s 928ms/step - loss: 0.7024 - accuracy: 0.7452 - val_loss: 0.7262 - val_accuracy: 0.7370\n",
      "Epoch 8/10\n",
      "89/90 [============================>.] - ETA: 0s - loss: 0.7121 - accuracy: 0.7423\n",
      "Epoch 00008: val_accuracy did not improve from 0.74642\n",
      "90/90 [==============================] - 83s 919ms/step - loss: 0.7121 - accuracy: 0.7424 - val_loss: 0.7507 - val_accuracy: 0.7227\n",
      "Epoch 9/10\n",
      "89/90 [============================>.] - ETA: 0s - loss: 0.7092 - accuracy: 0.7413\n",
      "Epoch 00009: val_accuracy did not improve from 0.74642\n",
      "90/90 [==============================] - 83s 922ms/step - loss: 0.7098 - accuracy: 0.7414 - val_loss: 0.7185 - val_accuracy: 0.7370\n",
      "Epoch 10/10\n",
      "89/90 [============================>.] - ETA: 0s - loss: 0.6950 - accuracy: 0.7442\n",
      "Epoch 00010: val_accuracy did not improve from 0.74642\n",
      "90/90 [==============================] - 82s 915ms/step - loss: 0.6962 - accuracy: 0.7437 - val_loss: 0.7323 - val_accuracy: 0.7363\n"
     ]
    }
   ],
   "source": [
    "history = cnn_model.fit_generator( generator=training, \n",
    "                    validation_data=validation,\n",
    "                    callbacks=callbacks,    \n",
    "                    epochs=10,\n",
    "                    verbose=1)"
   ]
  },
  {
   "cell_type": "code",
   "execution_count": 114,
   "metadata": {},
   "outputs": [
    {
     "data": {
      "text/plain": [
       "<matplotlib.legend.Legend at 0x1a37eefb38>"
      ]
     },
     "execution_count": 114,
     "metadata": {},
     "output_type": "execute_result"
    },
    {
     "data": {
      "image/png": "[encoded data removed]",
      "text/plain": [
       "<Figure size 432x288 with 1 Axes>"
      ]
     },
     "metadata": {
      "needs_background": "light"
     },
     "output_type": "display_data"
    }
   ],
   "source": [
    "plt.plot(history.history['accuracy'], label='Train Acc')\n",
    "plt.plot(history.history['val_accuracy'],  label='Val Acc')\n",
    "plt.legend()"
   ]
  },
  {
   "cell_type": "code",
   "execution_count": 176,
   "metadata": {},
   "outputs": [],
   "source": [
    "img = Image.open('data/AnnualCrop/AnnualCrop_667.jpg')"
   ]
  },
  {
   "cell_type": "code",
   "execution_count": 177,
   "metadata": {},
   "outputs": [],
   "source": [
    "img =img.convert('RGB')"
   ]
  },
  {
   "cell_type": "code",
   "execution_count": 178,
   "metadata": {},
   "outputs": [],
   "source": [
    "img_temp=img.resize((64,64))"
   ]
  },
  {
   "cell_type": "code",
   "execution_count": 179,
   "metadata": {},
   "outputs": [
    {
     "data": {
      "text/plain": [
       "<matplotlib.image.AxesImage at 0x1a3e7f2240>"
      ]
     },
     "execution_count": 179,
     "metadata": {},
     "output_type": "execute_result"
    },
    {
     "data": {
      "image/png": "[encoded data removed]",
      "text/plain": [
       "<Figure size 432x288 with 1 Axes>"
      ]
     },
     "metadata": {
      "needs_background": "light"
     },
     "output_type": "display_data"
    }
   ],
   "source": [
    "plt.imshow(img_temp)"
   ]
  },
  {
   "cell_type": "code",
   "execution_count": 180,
   "metadata": {},
   "outputs": [],
   "source": [
    "img=np.asarray(img_temp, dtype='float32')\n",
    "img=img.reshape(1,64,64,3)"
   ]
  },
  {
   "cell_type": "code",
   "execution_count": 181,
   "metadata": {},
   "outputs": [
    {
     "data": {
      "text/plain": [
       "array([8])"
      ]
     },
     "execution_count": 181,
     "metadata": {},
     "output_type": "execute_result"
    }
   ],
   "source": [
    "cnn_model.predict_classes(img)"
   ]
  },
  {
   "cell_type": "code",
   "execution_count": 182,
   "metadata": {},
   "outputs": [
    {
     "data": {
      "text/plain": [
       "{'AnnualCrop': 0,\n",
       " 'Forest': 1,\n",
       " 'HerbaceousVegetation': 2,\n",
       " 'Highway': 3,\n",
       " 'Industrial': 4,\n",
       " 'Pasture': 5,\n",
       " 'PermanentCrop': 6,\n",
       " 'Residential': 7,\n",
       " 'River': 8,\n",
       " 'SeaLake': 9}"
      ]
     },
     "execution_count": 182,
     "metadata": {},
     "output_type": "execute_result"
    }
   ],
   "source": [
    "training.class_indices"
   ]
  }
 ],
 "metadata": {
  "kernelspec": {
   "display_name": "Python 3",
   "language": "python",
   "name": "python3"
  },
  "language_info": {
   "codemirror_mode": {
    "name": "ipython",
    "version": 3
   },
   "file_extension": ".py",
   "mimetype": "text/x-python",
   "name": "python",
   "nbconvert_exporter": "python",
   "pygments_lexer": "ipython3",
   "version": "3.6.9"
  }
 },
 "nbformat": 4,
 "nbformat_minor": 2
}
