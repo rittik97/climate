{
 "cells": [
  {
   "cell_type": "code",
   "execution_count": 1,
   "metadata": {},
   "outputs": [],
   "source": [
    "import pandas as pd\n",
    "import numpy as np \n",
    "import matplotlib.pyplot as plt\n",
    "import glob\n",
    "from PIL import Image"
   ]
  },
  {
   "cell_type": "code",
   "execution_count": 2,
   "metadata": {},
   "outputs": [],
   "source": [
    "from sklearn.model_selection import train_test_split\n",
    "from sklearn.preprocessing import LabelBinarizer\n"
   ]
  },
  {
   "cell_type": "code",
   "execution_count": 3,
   "metadata": {},
   "outputs": [
    {
     "name": "stderr",
     "output_type": "stream",
     "text": [
      "Using TensorFlow backend.\n"
     ]
    }
   ],
   "source": [
    "from tensorflow.keras.models import Sequential \n",
    "from tensorflow.keras.backend import set_image_data_format \n",
    "from tensorflow.keras.layers import Conv2D, MaxPool2D, BatchNormalization \n",
    "from tensorflow.keras.layers import Conv2D, MaxPooling2D\n",
    "from tensorflow.keras.layers import Activation, Dropout, Flatten, Dense, Input \n",
    "from tensorflow.keras import optimizers, losses, utils \n",
    "from keras.preprocessing.image import ImageDataGenerator\n",
    "from tensorflow.keras.callbacks import EarlyStopping, ModelCheckpoint, ReduceLROnPlateau"
   ]
  },
  {
   "cell_type": "markdown",
   "metadata": {},
   "source": [
    "### Transforms:\n",
    "https://link.springer.com/content/pdf/bbm%3A978-1-4842-3516-4%2F1.pdf"
   ]
  },
  {
   "cell_type": "code",
   "execution_count": 14,
   "metadata": {},
   "outputs": [],
   "source": [
    "datagen = ImageDataGenerator(\n",
    "        rotation_range=20,\n",
    "        zoom_range=0.15,\n",
    "        width_shift_range=0.2,\n",
    "        height_shift_range=0.2,\n",
    "        horizontal_flip=True,\n",
    "        #zca_whitening=True,\n",
    "        #featurewise_center=True,\n",
    "        vertical_flip=True,\n",
    "        rescale = 1./255,\n",
    "        validation_split=0.15,\n",
    "        fill_mode=\"nearest\")"
   ]
  },
  {
   "cell_type": "code",
   "execution_count": null,
   "metadata": {},
   "outputs": [],
   "source": [
    "datagen = ImageDataGenerator(rescale = 1./255, validation_split=0.2)"
   ]
  },
  {
   "cell_type": "code",
   "execution_count": 15,
   "metadata": {},
   "outputs": [
    {
     "name": "stdout",
     "output_type": "stream",
     "text": [
      "Found 22950 images belonging to 10 classes.\n"
     ]
    }
   ],
   "source": [
    "training = datagen.flow_from_directory(directory = \"data/\",\n",
    "                                   target_size = (64,64),\n",
    "                                   color_mode=\"rgb\",\n",
    "                                   class_mode = \"categorical\",\n",
    "                                   batch_size = 256,\n",
    "                                   subset='training',\n",
    "                                   seed=117)"
   ]
  },
  {
   "cell_type": "code",
   "execution_count": 16,
   "metadata": {},
   "outputs": [
    {
     "name": "stdout",
     "output_type": "stream",
     "text": [
      "Found 4050 images belonging to 10 classes.\n"
     ]
    }
   ],
   "source": [
    "validation = datagen.flow_from_directory(directory = \"data/\",\n",
    "                                   target_size = (64,64),\n",
    "                                   color_mode=\"rgb\",\n",
    "                                   class_mode = \"categorical\",\n",
    "                                   batch_size = 256,\n",
    "                                   subset='validation',\n",
    "                                   seed=117)"
   ]
  },
  {
   "cell_type": "code",
   "execution_count": 7,
   "metadata": {},
   "outputs": [
    {
     "data": {
      "text/plain": [
       "{'AnnualCrop': 0,\n",
       " 'Forest': 1,\n",
       " 'HerbaceousVegetation': 2,\n",
       " 'Highway': 3,\n",
       " 'Industrial': 4,\n",
       " 'Pasture': 5,\n",
       " 'PermanentCrop': 6,\n",
       " 'Residential': 7,\n",
       " 'River': 8,\n",
       " 'SeaLake': 9}"
      ]
     },
     "execution_count": 7,
     "metadata": {},
     "output_type": "execute_result"
    }
   ],
   "source": [
    "training.class_indices"
   ]
  },
  {
   "cell_type": "code",
   "execution_count": null,
   "metadata": {},
   "outputs": [],
   "source": [
    "plt.imshow(training[13][0][52])"
   ]
  },
  {
   "cell_type": "code",
   "execution_count": null,
   "metadata": {},
   "outputs": [],
   "source": [
    "#Unused old block \n",
    "X=[]\n",
    "y=[]"
   ]
  },
  {
   "cell_type": "code",
   "execution_count": null,
   "metadata": {},
   "outputs": [],
   "source": [
    "#Unused old block \n",
    "files = glob.glob(\"data/Highway/*.jpg\")\n",
    "for file in files:\n",
    "    img = np.asarray(Image.open(file))\n",
    "    X.append(img)\n",
    "    y.append('Highway')"
   ]
  },
  {
   "cell_type": "code",
   "execution_count": null,
   "metadata": {},
   "outputs": [],
   "source": [
    "#Unused old block \n",
    "X=np.asarray(X)"
   ]
  },
  {
   "cell_type": "code",
   "execution_count": null,
   "metadata": {},
   "outputs": [],
   "source": [
    "#Unused old block \n",
    "plt.imshow(X[4567].reshape(64, 64,3),cmap='Greens')"
   ]
  },
  {
   "cell_type": "code",
   "execution_count": null,
   "metadata": {},
   "outputs": [],
   "source": [
    "#Unused old block \n",
    "X_train, X_test, y_train, y_test = train_test_split(X, y, test_size=0.2, random_state=117)"
   ]
  },
  {
   "cell_type": "code",
   "execution_count": null,
   "metadata": {},
   "outputs": [],
   "source": [
    "#Unused old block \n",
    "X_train = X_train.astype('float32')\n",
    "X_test = X_test.astype('float32')"
   ]
  },
  {
   "cell_type": "code",
   "execution_count": null,
   "metadata": {},
   "outputs": [],
   "source": [
    "#Unused old block \n",
    "le=LabelEncoder()\n",
    "y_train = le.fit_transform(y_train)\n",
    "y_test = le.fit_transform(y_test)"
   ]
  },
  {
   "cell_type": "code",
   "execution_count": null,
   "metadata": {},
   "outputs": [],
   "source": [
    "#Unused old block \n",
    "le.classes_"
   ]
  },
  {
   "cell_type": "code",
   "execution_count": 195,
   "metadata": {},
   "outputs": [],
   "source": [
    "cnn_model = Sequential()\n",
    "cnn_model.add(Input(shape=(64, 64, 3)))\n",
    "cnn_model.add(Conv2D(filters = 10,            \n",
    "                     kernel_size = 3,       \n",
    "                     activation='relu'),)\n",
    "cnn_model.add(MaxPooling2D(pool_size=(2,2)))\n",
    "cnn_model.add(Conv2D(filters = 7,            \n",
    "                     kernel_size = 3,       \n",
    "                     activation='relu'),)\n",
    "cnn_model.add(MaxPooling2D(pool_size=(2,2)))\n",
    "cnn_model.add(BatchNormalization())\n",
    "cnn_model.add(Conv2D(5,\n",
    "                     kernel_size=3,\n",
    "                     activation='relu'),\n",
    "             )\n",
    "cnn_model.add(MaxPooling2D(pool_size=(2,2)))\n",
    "\n",
    "cnn_model.add(Flatten())\n",
    "cnn_model.add(Dense(40, activation='relu'))\n",
    "cnn_model.add(BatchNormalization())\n",
    "#cnn_model.add(Dropout(0.5))\n",
    "cnn_model.add(Dense(20, activation='relu'))\n",
    "cnn_model.add(BatchNormalization())\n",
    "#cnn_model.add(Dropout(0.3))\n",
    "cnn_model.add(Dense(15, activation='relu'))\n",
    "#cnn_model.add(Dropout(0.2))\n",
    "cnn_model.add(Dense(len(training.class_indices), activation='softmax'))"
   ]
  },
  {
   "cell_type": "code",
   "execution_count": 196,
   "metadata": {},
   "outputs": [
    {
     "name": "stdout",
     "output_type": "stream",
     "text": [
      "Model: \"sequential_4\"\n",
      "_________________________________________________________________\n",
      "Layer (type)                 Output Shape              Param #   \n",
      "=================================================================\n",
      "conv2d_11 (Conv2D)           (None, 62, 62, 10)        280       \n",
      "_________________________________________________________________\n",
      "max_pooling2d_9 (MaxPooling2 (None, 31, 31, 10)        0         \n",
      "_________________________________________________________________\n",
      "conv2d_12 (Conv2D)           (None, 29, 29, 7)         637       \n",
      "_________________________________________________________________\n",
      "max_pooling2d_10 (MaxPooling (None, 14, 14, 7)         0         \n",
      "_________________________________________________________________\n",
      "batch_normalization_1 (Batch (None, 14, 14, 7)         28        \n",
      "_________________________________________________________________\n",
      "conv2d_13 (Conv2D)           (None, 12, 12, 5)         320       \n",
      "_________________________________________________________________\n",
      "max_pooling2d_11 (MaxPooling (None, 6, 6, 5)           0         \n",
      "_________________________________________________________________\n",
      "flatten_3 (Flatten)          (None, 180)               0         \n",
      "_________________________________________________________________\n",
      "dense_9 (Dense)              (None, 40)                7240      \n",
      "_________________________________________________________________\n",
      "batch_normalization_2 (Batch (None, 40)                160       \n",
      "_________________________________________________________________\n",
      "dense_10 (Dense)             (None, 20)                820       \n",
      "_________________________________________________________________\n",
      "batch_normalization_3 (Batch (None, 20)                80        \n",
      "_________________________________________________________________\n",
      "dense_11 (Dense)             (None, 15)                315       \n",
      "_________________________________________________________________\n",
      "dense_12 (Dense)             (None, 10)                160       \n",
      "=================================================================\n",
      "Total params: 10,040\n",
      "Trainable params: 9,906\n",
      "Non-trainable params: 134\n",
      "_________________________________________________________________\n"
     ]
    }
   ],
   "source": [
    "cnn_model.summary()"
   ]
  },
  {
   "cell_type": "code",
   "execution_count": 197,
   "metadata": {},
   "outputs": [],
   "source": [
    "\n",
    "cnn_model.compile(loss='categorical_crossentropy', optimizer='Adamax', metrics=['accuracy'])"
   ]
  },
  {
   "cell_type": "code",
   "execution_count": 198,
   "metadata": {},
   "outputs": [],
   "source": [
    "callbacks = [\n",
    "    EarlyStopping(patience=10, verbose=1, monitor='val_accuracy'),\n",
    "    ReduceLROnPlateau(factor=0.1, patience=5, min_lr=0.00001, verbose=1),\n",
    "    ModelCheckpoint('model_best_2.h5', verbose=1, save_best_only=True, monitor='val_accuracy')\n",
    "]"
   ]
  },
  {
   "cell_type": "code",
   "execution_count": 200,
   "metadata": {},
   "outputs": [
    {
     "name": "stdout",
     "output_type": "stream",
     "text": [
      "Epoch 1/50\n",
      "89/90 [============================>.] - ETA: 0s - loss: 2.0032 - accuracy: 0.2795\n",
      "Epoch 00001: val_accuracy improved from -inf to 0.08642, saving model to model_best_2.h5\n",
      "90/90 [==============================] - 76s 843ms/step - loss: 2.0007 - accuracy: 0.2807 - val_loss: 2.2879 - val_accuracy: 0.0864\n",
      "Epoch 2/50\n",
      "89/90 [============================>.] - ETA: 0s - loss: 1.7207 - accuracy: 0.4016\n",
      "Epoch 00002: val_accuracy improved from 0.08642 to 0.12864, saving model to model_best_2.h5\n",
      "90/90 [==============================] - 68s 756ms/step - loss: 1.7194 - accuracy: 0.4020 - val_loss: 2.2619 - val_accuracy: 0.1286\n",
      "Epoch 3/50\n",
      "89/90 [============================>.] - ETA: 0s - loss: 1.5390 - accuracy: 0.4683\n",
      "Epoch 00003: val_accuracy did not improve from 0.12864\n",
      "90/90 [==============================] - 69s 765ms/step - loss: 1.5374 - accuracy: 0.4690 - val_loss: 2.3038 - val_accuracy: 0.0867\n",
      "Epoch 4/50\n",
      "89/90 [============================>.] - ETA: 0s - loss: 1.4044 - accuracy: 0.5122\n",
      "Epoch 00004: val_accuracy improved from 0.12864 to 0.14864, saving model to model_best_2.h5\n",
      "90/90 [==============================] - 81s 904ms/step - loss: 1.4045 - accuracy: 0.5119 - val_loss: 2.2370 - val_accuracy: 0.1486\n",
      "Epoch 5/50\n",
      "89/90 [============================>.] - ETA: 0s - loss: 1.3032 - accuracy: 0.5367\n",
      "Epoch 00005: val_accuracy improved from 0.14864 to 0.24914, saving model to model_best_2.h5\n",
      "90/90 [==============================] - 72s 803ms/step - loss: 1.3039 - accuracy: 0.5364 - val_loss: 2.0284 - val_accuracy: 0.2491\n",
      "Epoch 6/50\n",
      "89/90 [============================>.] - ETA: 0s - loss: 1.2352 - accuracy: 0.5569\n",
      "Epoch 00006: val_accuracy improved from 0.24914 to 0.37753, saving model to model_best_2.h5\n",
      "90/90 [==============================] - 88s 974ms/step - loss: 1.2354 - accuracy: 0.5572 - val_loss: 1.6091 - val_accuracy: 0.3775\n",
      "Epoch 7/50\n",
      "89/90 [============================>.] - ETA: 0s - loss: 1.1700 - accuracy: 0.5827\n",
      "Epoch 00007: val_accuracy improved from 0.37753 to 0.48247, saving model to model_best_2.h5\n",
      "90/90 [==============================] - 82s 913ms/step - loss: 1.1700 - accuracy: 0.5830 - val_loss: 1.2936 - val_accuracy: 0.4825\n",
      "Epoch 8/50\n",
      "89/90 [============================>.] - ETA: 0s - loss: 1.1267 - accuracy: 0.5887\n",
      "Epoch 00008: val_accuracy improved from 0.48247 to 0.57852, saving model to model_best_2.h5\n",
      "90/90 [==============================] - 76s 844ms/step - loss: 1.1260 - accuracy: 0.5894 - val_loss: 1.1576 - val_accuracy: 0.5785\n",
      "Epoch 9/50\n",
      "89/90 [============================>.] - ETA: 0s - loss: 1.0850 - accuracy: 0.6090\n",
      "Epoch 00009: val_accuracy improved from 0.57852 to 0.58222, saving model to model_best_2.h5\n",
      "90/90 [==============================] - 75s 834ms/step - loss: 1.0850 - accuracy: 0.6087 - val_loss: 1.1206 - val_accuracy: 0.5822\n",
      "Epoch 10/50\n",
      "89/90 [============================>.] - ETA: 0s - loss: 1.0448 - accuracy: 0.6210\n",
      "Epoch 00010: val_accuracy improved from 0.58222 to 0.58494, saving model to model_best_2.h5\n",
      "90/90 [==============================] - 73s 808ms/step - loss: 1.0446 - accuracy: 0.6211 - val_loss: 1.1296 - val_accuracy: 0.5849\n",
      "Epoch 11/50\n",
      "89/90 [============================>.] - ETA: 0s - loss: 0.9979 - accuracy: 0.6363\n",
      "Epoch 00011: val_accuracy improved from 0.58494 to 0.59309, saving model to model_best_2.h5\n",
      "90/90 [==============================] - 68s 750ms/step - loss: 0.9988 - accuracy: 0.6359 - val_loss: 1.1006 - val_accuracy: 0.5931\n",
      "Epoch 12/50\n",
      "89/90 [============================>.] - ETA: 0s - loss: 0.9714 - accuracy: 0.6452\n",
      "Epoch 00012: val_accuracy improved from 0.59309 to 0.64593, saving model to model_best_2.h5\n",
      "90/90 [==============================] - 71s 792ms/step - loss: 0.9715 - accuracy: 0.6447 - val_loss: 0.9850 - val_accuracy: 0.6459\n",
      "Epoch 13/50\n",
      "89/90 [============================>.] - ETA: 0s - loss: 0.9439 - accuracy: 0.6565\n",
      "Epoch 00013: val_accuracy did not improve from 0.64593\n",
      "90/90 [==============================] - 81s 901ms/step - loss: 0.9432 - accuracy: 0.6569 - val_loss: 0.9908 - val_accuracy: 0.6454\n",
      "Epoch 14/50\n",
      "89/90 [============================>.] - ETA: 0s - loss: 0.9081 - accuracy: 0.6696\n",
      "Epoch 00014: val_accuracy improved from 0.64593 to 0.64790, saving model to model_best_2.h5\n",
      "90/90 [==============================] - 69s 765ms/step - loss: 0.9083 - accuracy: 0.6694 - val_loss: 0.9901 - val_accuracy: 0.6479\n",
      "Epoch 15/50\n",
      "89/90 [============================>.] - ETA: 0s - loss: 0.8812 - accuracy: 0.6816\n",
      "Epoch 00015: val_accuracy improved from 0.64790 to 0.67457, saving model to model_best_2.h5\n",
      "90/90 [==============================] - 71s 790ms/step - loss: 0.8807 - accuracy: 0.6816 - val_loss: 0.9034 - val_accuracy: 0.6746\n",
      "Epoch 16/50\n",
      "89/90 [============================>.] - ETA: 0s - loss: 0.8524 - accuracy: 0.6893\n",
      "Epoch 00016: val_accuracy did not improve from 0.67457\n",
      "90/90 [==============================] - 67s 745ms/step - loss: 0.8529 - accuracy: 0.6891 - val_loss: 0.9030 - val_accuracy: 0.6736\n",
      "Epoch 17/50\n",
      "89/90 [============================>.] - ETA: 0s - loss: 0.8329 - accuracy: 0.6969\n",
      "Epoch 00017: val_accuracy did not improve from 0.67457\n",
      "90/90 [==============================] - 66s 736ms/step - loss: 0.8317 - accuracy: 0.6974 - val_loss: 1.0202 - val_accuracy: 0.6454\n",
      "Epoch 18/50\n",
      "89/90 [============================>.] - ETA: 0s - loss: 0.8088 - accuracy: 0.7066\n",
      "Epoch 00018: val_accuracy improved from 0.67457 to 0.71284, saving model to model_best_2.h5\n",
      "90/90 [==============================] - 67s 745ms/step - loss: 0.8095 - accuracy: 0.7064 - val_loss: 0.7955 - val_accuracy: 0.7128\n",
      "Epoch 19/50\n",
      "89/90 [============================>.] - ETA: 0s - loss: 0.7956 - accuracy: 0.7100\n",
      "Epoch 00019: val_accuracy improved from 0.71284 to 0.71654, saving model to model_best_2.h5\n",
      "90/90 [==============================] - 67s 744ms/step - loss: 0.7954 - accuracy: 0.7099 - val_loss: 0.7789 - val_accuracy: 0.7165\n",
      "Epoch 20/50\n",
      "89/90 [============================>.] - ETA: 0s - loss: 0.7705 - accuracy: 0.7210\n",
      "Epoch 00020: val_accuracy did not improve from 0.71654\n",
      "90/90 [==============================] - 66s 736ms/step - loss: 0.7712 - accuracy: 0.7207 - val_loss: 0.8359 - val_accuracy: 0.6923\n",
      "Epoch 21/50\n",
      "89/90 [============================>.] - ETA: 0s - loss: 0.7621 - accuracy: 0.7234\n",
      "Epoch 00021: val_accuracy improved from 0.71654 to 0.72617, saving model to model_best_2.h5\n",
      "90/90 [==============================] - 65s 726ms/step - loss: 0.7618 - accuracy: 0.7234 - val_loss: 0.7564 - val_accuracy: 0.7262\n",
      "Epoch 22/50\n",
      "89/90 [============================>.] - ETA: 0s - loss: 0.7607 - accuracy: 0.7255\n",
      "Epoch 00022: val_accuracy did not improve from 0.72617\n",
      "90/90 [==============================] - 66s 736ms/step - loss: 0.7602 - accuracy: 0.7258 - val_loss: 0.8518 - val_accuracy: 0.6936\n",
      "Epoch 23/50\n",
      "89/90 [============================>.] - ETA: 0s - loss: 0.7402 - accuracy: 0.7322\n",
      "Epoch 00023: val_accuracy did not improve from 0.72617\n",
      "90/90 [==============================] - 67s 740ms/step - loss: 0.7400 - accuracy: 0.7320 - val_loss: 0.7716 - val_accuracy: 0.7244\n",
      "Epoch 24/50\n",
      "89/90 [============================>.] - ETA: 0s - loss: 0.7299 - accuracy: 0.7347\n",
      "Epoch 00024: val_accuracy improved from 0.72617 to 0.74123, saving model to model_best_2.h5\n",
      "90/90 [==============================] - 69s 766ms/step - loss: 0.7306 - accuracy: 0.7344 - val_loss: 0.7228 - val_accuracy: 0.7412\n",
      "Epoch 25/50\n",
      "89/90 [============================>.] - ETA: 0s - loss: 0.7282 - accuracy: 0.7334\n",
      "Epoch 00025: val_accuracy did not improve from 0.74123\n",
      "90/90 [==============================] - 69s 763ms/step - loss: 0.7285 - accuracy: 0.7332 - val_loss: 1.0526 - val_accuracy: 0.6333\n",
      "Epoch 26/50\n",
      "89/90 [============================>.] - ETA: 0s - loss: 0.7181 - accuracy: 0.7400\n",
      "Epoch 00026: val_accuracy improved from 0.74123 to 0.74593, saving model to model_best_2.h5\n",
      "90/90 [==============================] - 68s 752ms/step - loss: 0.7178 - accuracy: 0.7400 - val_loss: 0.7039 - val_accuracy: 0.7459\n",
      "Epoch 27/50\n",
      "89/90 [============================>.] - ETA: 0s - loss: 0.7141 - accuracy: 0.7417\n",
      "Epoch 00027: val_accuracy did not improve from 0.74593\n",
      "90/90 [==============================] - 68s 754ms/step - loss: 0.7138 - accuracy: 0.7419 - val_loss: 0.8363 - val_accuracy: 0.6946\n"
     ]
    },
    {
     "name": "stdout",
     "output_type": "stream",
     "text": [
      "Epoch 28/50\n",
      "89/90 [============================>.] - ETA: 0s - loss: 0.7007 - accuracy: 0.7431\n",
      "Epoch 00028: val_accuracy improved from 0.74593 to 0.75235, saving model to model_best_2.h5\n",
      "90/90 [==============================] - 68s 751ms/step - loss: 0.6994 - accuracy: 0.7437 - val_loss: 0.7140 - val_accuracy: 0.7523\n",
      "Epoch 29/50\n",
      "89/90 [============================>.] - ETA: 0s - loss: 0.6980 - accuracy: 0.7465\n",
      "Epoch 00029: val_accuracy did not improve from 0.75235\n",
      "90/90 [==============================] - 66s 735ms/step - loss: 0.6980 - accuracy: 0.7464 - val_loss: 0.8442 - val_accuracy: 0.6988\n",
      "Epoch 30/50\n",
      "89/90 [============================>.] - ETA: 0s - loss: 0.6843 - accuracy: 0.7507\n",
      "Epoch 00030: val_accuracy did not improve from 0.75235\n",
      "90/90 [==============================] - 67s 747ms/step - loss: 0.6837 - accuracy: 0.7508 - val_loss: 0.7260 - val_accuracy: 0.7373\n",
      "Epoch 31/50\n",
      "89/90 [============================>.] - ETA: 0s - loss: 0.6794 - accuracy: 0.7539\n",
      "Epoch 00031: val_accuracy did not improve from 0.75235\n",
      "90/90 [==============================] - 67s 748ms/step - loss: 0.6799 - accuracy: 0.7540 - val_loss: 0.6955 - val_accuracy: 0.7467\n",
      "Epoch 32/50\n",
      "89/90 [============================>.] - ETA: 0s - loss: 0.6711 - accuracy: 0.7534\n",
      "Epoch 00032: val_accuracy did not improve from 0.75235\n",
      "90/90 [==============================] - 66s 738ms/step - loss: 0.6708 - accuracy: 0.7537 - val_loss: 0.6899 - val_accuracy: 0.7496\n",
      "Epoch 33/50\n",
      "89/90 [============================>.] - ETA: 0s - loss: 0.6690 - accuracy: 0.7555\n",
      "Epoch 00033: val_accuracy did not improve from 0.75235\n",
      "90/90 [==============================] - 67s 741ms/step - loss: 0.6686 - accuracy: 0.7558 - val_loss: 0.6944 - val_accuracy: 0.7462\n",
      "Epoch 34/50\n",
      "89/90 [============================>.] - ETA: 0s - loss: 0.6706 - accuracy: 0.7553\n",
      "Epoch 00034: val_accuracy did not improve from 0.75235\n",
      "90/90 [==============================] - 67s 749ms/step - loss: 0.6702 - accuracy: 0.7554 - val_loss: 0.8041 - val_accuracy: 0.7064\n",
      "Epoch 35/50\n",
      "89/90 [============================>.] - ETA: 0s - loss: 0.6630 - accuracy: 0.7584\n",
      "Epoch 00035: val_accuracy did not improve from 0.75235\n",
      "90/90 [==============================] - 67s 742ms/step - loss: 0.6646 - accuracy: 0.7579 - val_loss: 0.7967 - val_accuracy: 0.7215\n",
      "Epoch 36/50\n",
      "89/90 [============================>.] - ETA: 0s - loss: 0.6583 - accuracy: 0.7591\n",
      "Epoch 00036: val_accuracy improved from 0.75235 to 0.76469, saving model to model_best_2.h5\n",
      "90/90 [==============================] - 66s 730ms/step - loss: 0.6580 - accuracy: 0.7592 - val_loss: 0.6659 - val_accuracy: 0.7647\n",
      "Epoch 37/50\n",
      "89/90 [============================>.] - ETA: 0s - loss: 0.6540 - accuracy: 0.7614\n",
      "Epoch 00037: val_accuracy did not improve from 0.76469\n",
      "90/90 [==============================] - 60s 664ms/step - loss: 0.6527 - accuracy: 0.7618 - val_loss: 0.6768 - val_accuracy: 0.7462\n",
      "Epoch 38/50\n",
      "89/90 [============================>.] - ETA: 0s - loss: 0.6422 - accuracy: 0.7645\n",
      "Epoch 00038: val_accuracy improved from 0.76469 to 0.76840, saving model to model_best_2.h5\n",
      "90/90 [==============================] - 63s 695ms/step - loss: 0.6415 - accuracy: 0.7647 - val_loss: 0.6387 - val_accuracy: 0.7684\n",
      "Epoch 39/50\n",
      "89/90 [============================>.] - ETA: 0s - loss: 0.6478 - accuracy: 0.7615\n",
      "Epoch 00039: val_accuracy did not improve from 0.76840\n",
      "90/90 [==============================] - 65s 718ms/step - loss: 0.6473 - accuracy: 0.7615 - val_loss: 0.6845 - val_accuracy: 0.7541\n",
      "Epoch 40/50\n",
      "89/90 [============================>.] - ETA: 0s - loss: 0.6321 - accuracy: 0.7656\n",
      "Epoch 00040: val_accuracy did not improve from 0.76840\n",
      "90/90 [==============================] - 67s 743ms/step - loss: 0.6333 - accuracy: 0.7647 - val_loss: 0.6669 - val_accuracy: 0.7583\n",
      "Epoch 41/50\n",
      "89/90 [============================>.] - ETA: 0s - loss: 0.6326 - accuracy: 0.7672\n",
      "Epoch 00041: val_accuracy improved from 0.76840 to 0.77037, saving model to model_best_2.h5\n",
      "90/90 [==============================] - 68s 751ms/step - loss: 0.6319 - accuracy: 0.7674 - val_loss: 0.6317 - val_accuracy: 0.7704\n",
      "Epoch 42/50\n",
      "89/90 [============================>.] - ETA: 0s - loss: 0.6238 - accuracy: 0.7729\n",
      "Epoch 00042: val_accuracy improved from 0.77037 to 0.77136, saving model to model_best_2.h5\n",
      "90/90 [==============================] - 67s 739ms/step - loss: 0.6234 - accuracy: 0.7731 - val_loss: 0.6346 - val_accuracy: 0.7714\n",
      "Epoch 43/50\n",
      "89/90 [============================>.] - ETA: 0s - loss: 0.6259 - accuracy: 0.7706\n",
      "Epoch 00043: val_accuracy did not improve from 0.77136\n",
      "90/90 [==============================] - 67s 748ms/step - loss: 0.6258 - accuracy: 0.7708 - val_loss: 0.6451 - val_accuracy: 0.7684\n",
      "Epoch 44/50\n",
      "89/90 [============================>.] - ETA: 0s - loss: 0.6160 - accuracy: 0.7754\n",
      "Epoch 00044: val_accuracy did not improve from 0.77136\n",
      "90/90 [==============================] - 66s 735ms/step - loss: 0.6157 - accuracy: 0.7757 - val_loss: 0.7633 - val_accuracy: 0.7296\n",
      "Epoch 45/50\n",
      "89/90 [============================>.] - ETA: 0s - loss: 0.6230 - accuracy: 0.7713\n",
      "Epoch 00045: val_accuracy did not improve from 0.77136\n",
      "90/90 [==============================] - 72s 802ms/step - loss: 0.6229 - accuracy: 0.7711 - val_loss: 0.8024 - val_accuracy: 0.7111\n",
      "Epoch 46/50\n",
      "89/90 [============================>.] - ETA: 0s - loss: 0.6170 - accuracy: 0.7806\n",
      "Epoch 00046: ReduceLROnPlateau reducing learning rate to 0.00010000000474974513.\n",
      "\n",
      "Epoch 00046: val_accuracy did not improve from 0.77136\n",
      "90/90 [==============================] - 69s 766ms/step - loss: 0.6179 - accuracy: 0.7803 - val_loss: 0.7756 - val_accuracy: 0.7198\n",
      "Epoch 47/50\n",
      "89/90 [============================>.] - ETA: 0s - loss: 0.6004 - accuracy: 0.7793\n",
      "Epoch 00047: val_accuracy improved from 0.77136 to 0.77630, saving model to model_best_2.h5\n",
      "90/90 [==============================] - 68s 753ms/step - loss: 0.6012 - accuracy: 0.7793 - val_loss: 0.6200 - val_accuracy: 0.7763\n",
      "Epoch 48/50\n",
      "89/90 [============================>.] - ETA: 0s - loss: 0.5987 - accuracy: 0.7803\n",
      "Epoch 00048: val_accuracy improved from 0.77630 to 0.78568, saving model to model_best_2.h5\n",
      "90/90 [==============================] - 64s 710ms/step - loss: 0.5991 - accuracy: 0.7803 - val_loss: 0.5956 - val_accuracy: 0.7857\n",
      "Epoch 49/50\n",
      "89/90 [============================>.] - ETA: 0s - loss: 0.5974 - accuracy: 0.7811\n",
      "Epoch 00049: val_accuracy improved from 0.78568 to 0.78642, saving model to model_best_2.h5\n",
      "90/90 [==============================] - 69s 765ms/step - loss: 0.5977 - accuracy: 0.7810 - val_loss: 0.6059 - val_accuracy: 0.7864\n",
      "Epoch 50/50\n",
      "89/90 [============================>.] - ETA: 0s - loss: 0.5932 - accuracy: 0.7792\n",
      "Epoch 00050: val_accuracy improved from 0.78642 to 0.79111, saving model to model_best_2.h5\n",
      "90/90 [==============================] - 71s 786ms/step - loss: 0.5936 - accuracy: 0.7792 - val_loss: 0.5977 - val_accuracy: 0.7911\n"
     ]
    }
   ],
   "source": [
    "history = cnn_model.fit_generator(generator=training, \n",
    "                    validation_data=validation,\n",
    "                    callbacks=callbacks,\n",
    "                    epochs=50,\n",
    "                    verbose=1)"
   ]
  },
  {
   "cell_type": "code",
   "execution_count": 78,
   "metadata": {},
   "outputs": [
    {
     "name": "stdout",
     "output_type": "stream",
     "text": [
      "Epoch 1/30\n",
      "89/90 [============================>.] - ETA: 0s - loss: 0.9228 - accuracy: 0.6656\n",
      "Epoch 00001: val_accuracy improved from 0.64938 to 0.66765, saving model to model-best.h5\n",
      "90/90 [==============================] - 84s 939ms/step - loss: 0.9221 - accuracy: 0.6658 - val_loss: 0.9135 - val_accuracy: 0.6677\n",
      "Epoch 2/30\n",
      "89/90 [============================>.] - ETA: 0s - loss: 0.8917 - accuracy: 0.6767\n",
      "Epoch 00002: val_accuracy improved from 0.66765 to 0.69037, saving model to model-best.h5\n",
      "90/90 [==============================] - 81s 895ms/step - loss: 0.8910 - accuracy: 0.6772 - val_loss: 0.8769 - val_accuracy: 0.6904\n",
      "Epoch 3/30\n",
      "89/90 [============================>.] - ETA: 0s - loss: 0.8857 - accuracy: 0.6826\n",
      "Epoch 00003: val_accuracy did not improve from 0.69037\n",
      "90/90 [==============================] - 80s 887ms/step - loss: 0.8850 - accuracy: 0.6829 - val_loss: 0.8581 - val_accuracy: 0.6859\n",
      "Epoch 4/30\n",
      "89/90 [============================>.] - ETA: 0s - loss: 0.8586 - accuracy: 0.6919\n",
      "Epoch 00004: val_accuracy improved from 0.69037 to 0.69778, saving model to model-best.h5\n",
      "90/90 [==============================] - 80s 886ms/step - loss: 0.8589 - accuracy: 0.6919 - val_loss: 0.8530 - val_accuracy: 0.6978\n",
      "Epoch 5/30\n",
      "89/90 [============================>.] - ETA: 0s - loss: 0.8306 - accuracy: 0.7002\n",
      "Epoch 00005: val_accuracy improved from 0.69778 to 0.71679, saving model to model-best.h5\n",
      "90/90 [==============================] - 81s 895ms/step - loss: 0.8298 - accuracy: 0.7003 - val_loss: 0.8016 - val_accuracy: 0.7168\n",
      "Epoch 6/30\n",
      "89/90 [============================>.] - ETA: 1s - loss: 0.8287 - accuracy: 0.7022\n",
      "Epoch 00006: val_accuracy did not improve from 0.71679\n",
      "90/90 [==============================] - 129s 1s/step - loss: 0.8302 - accuracy: 0.7018 - val_loss: 0.8348 - val_accuracy: 0.6941\n",
      "Epoch 7/30\n",
      "89/90 [============================>.] - ETA: 1s - loss: 0.8195 - accuracy: 0.7053\n",
      "Epoch 00007: val_accuracy did not improve from 0.71679\n",
      "90/90 [==============================] - 116s 1s/step - loss: 0.8200 - accuracy: 0.7051 - val_loss: 0.7902 - val_accuracy: 0.7146\n",
      "Epoch 8/30\n",
      "89/90 [============================>.] - ETA: 0s - loss: 0.8061 - accuracy: 0.7127\n",
      "Epoch 00008: val_accuracy did not improve from 0.71679\n",
      "90/90 [==============================] - 83s 923ms/step - loss: 0.8049 - accuracy: 0.7129 - val_loss: 0.7865 - val_accuracy: 0.7094\n",
      "Epoch 9/30\n",
      "89/90 [============================>.] - ETA: 0s - loss: 0.7798 - accuracy: 0.7198\n",
      "Epoch 00009: val_accuracy did not improve from 0.71679\n",
      "90/90 [==============================] - 79s 875ms/step - loss: 0.7802 - accuracy: 0.7199 - val_loss: 0.7783 - val_accuracy: 0.7153\n",
      "Epoch 10/30\n",
      "89/90 [============================>.] - ETA: 0s - loss: 0.7827 - accuracy: 0.7176\n",
      "Epoch 00010: val_accuracy improved from 0.71679 to 0.73235, saving model to model-best.h5\n",
      "90/90 [==============================] - 83s 922ms/step - loss: 0.7824 - accuracy: 0.7180 - val_loss: 0.7608 - val_accuracy: 0.7323\n",
      "Epoch 11/30\n",
      "89/90 [============================>.] - ETA: 0s - loss: 0.7937 - accuracy: 0.7144\n",
      "Epoch 00011: val_accuracy improved from 0.73235 to 0.74025, saving model to model-best.h5\n",
      "90/90 [==============================] - 80s 889ms/step - loss: 0.7941 - accuracy: 0.7144 - val_loss: 0.7499 - val_accuracy: 0.7402\n",
      "Epoch 12/30\n",
      "89/90 [============================>.] - ETA: 0s - loss: 0.7741 - accuracy: 0.7211\n",
      "Epoch 00012: val_accuracy did not improve from 0.74025\n",
      "90/90 [==============================] - 78s 871ms/step - loss: 0.7737 - accuracy: 0.7211 - val_loss: 0.7643 - val_accuracy: 0.7235\n",
      "Epoch 13/30\n",
      "89/90 [============================>.] - ETA: 0s - loss: 0.7585 - accuracy: 0.7266\n",
      "Epoch 00013: val_accuracy did not improve from 0.74025\n",
      "90/90 [==============================] - 77s 860ms/step - loss: 0.7590 - accuracy: 0.7261 - val_loss: 0.7758 - val_accuracy: 0.7220\n",
      "Epoch 14/30\n",
      "89/90 [============================>.] - ETA: 0s - loss: 0.7569 - accuracy: 0.7284\n",
      "Epoch 00014: val_accuracy did not improve from 0.74025\n",
      "90/90 [==============================] - 79s 880ms/step - loss: 0.7571 - accuracy: 0.7284 - val_loss: 0.7399 - val_accuracy: 0.7358\n",
      "Epoch 15/30\n",
      "89/90 [============================>.] - ETA: 0s - loss: 0.7531 - accuracy: 0.7299\n",
      "Epoch 00015: val_accuracy did not improve from 0.74025\n",
      "90/90 [==============================] - 78s 861ms/step - loss: 0.7542 - accuracy: 0.7295 - val_loss: 0.7616 - val_accuracy: 0.7289\n",
      "Epoch 16/30\n",
      "89/90 [============================>.] - ETA: 0s - loss: 0.7780 - accuracy: 0.7201\n",
      "Epoch 00016: val_accuracy did not improve from 0.74025\n",
      "90/90 [==============================] - 94s 1s/step - loss: 0.7785 - accuracy: 0.7201 - val_loss: 0.7647 - val_accuracy: 0.7252\n",
      "Epoch 17/30\n",
      "89/90 [============================>.] - ETA: 0s - loss: 0.7427 - accuracy: 0.7324\n",
      "Epoch 00017: val_accuracy did not improve from 0.74025\n",
      "90/90 [==============================] - 85s 942ms/step - loss: 0.7426 - accuracy: 0.7323 - val_loss: 0.7291 - val_accuracy: 0.7375\n",
      "Epoch 18/30\n",
      "89/90 [============================>.] - ETA: 0s - loss: 0.7372 - accuracy: 0.7337\n",
      "Epoch 00018: val_accuracy did not improve from 0.74025\n",
      "90/90 [==============================] - 82s 913ms/step - loss: 0.7382 - accuracy: 0.7332 - val_loss: 0.7419 - val_accuracy: 0.7365\n",
      "Epoch 19/30\n",
      "89/90 [============================>.] - ETA: 0s - loss: 0.7373 - accuracy: 0.7325\n",
      "Epoch 00019: val_accuracy did not improve from 0.74025\n",
      "90/90 [==============================] - 80s 891ms/step - loss: 0.7372 - accuracy: 0.7322 - val_loss: 0.7707 - val_accuracy: 0.7212\n",
      "Epoch 20/30\n",
      "89/90 [============================>.] - ETA: 0s - loss: 0.7414 - accuracy: 0.7330\n",
      "Epoch 00020: val_accuracy did not improve from 0.74025\n",
      "90/90 [==============================] - 80s 885ms/step - loss: 0.7420 - accuracy: 0.7329 - val_loss: 0.7895 - val_accuracy: 0.7175\n",
      "Epoch 21/30\n",
      "89/90 [============================>.] - ETA: 0s - loss: 0.7428 - accuracy: 0.7295\n",
      "Epoch 00021: val_accuracy did not improve from 0.74025\n",
      "90/90 [==============================] - 80s 884ms/step - loss: 0.7423 - accuracy: 0.7295 - val_loss: 0.7575 - val_accuracy: 0.7289\n",
      "Epoch 00021: early stopping\n"
     ]
    }
   ],
   "source": [
    "history = cnn_model.fit_generator( generator=training, \n",
    "                    validation_data=validation,\n",
    "                    callbacks=callbacks,    \n",
    "                    epochs=30,\n",
    "                    verbose=1)"
   ]
  },
  {
   "cell_type": "code",
   "execution_count": 113,
   "metadata": {},
   "outputs": [
    {
     "name": "stdout",
     "output_type": "stream",
     "text": [
      "Epoch 1/10\n",
      "89/90 [============================>.] - ETA: 0s - loss: 0.7445 - accuracy: 0.7316\n",
      "Epoch 00001: val_accuracy did not improve from 0.74025\n",
      "90/90 [==============================] - 83s 926ms/step - loss: 0.7447 - accuracy: 0.7312 - val_loss: 0.7552 - val_accuracy: 0.7284\n",
      "Epoch 2/10\n",
      "89/90 [============================>.] - ETA: 0s - loss: 0.7183 - accuracy: 0.7379\n",
      "Epoch 00002: val_accuracy did not improve from 0.74025\n",
      "90/90 [==============================] - 97s 1s/step - loss: 0.7178 - accuracy: 0.7383 - val_loss: 0.7478 - val_accuracy: 0.7311\n",
      "Epoch 3/10\n",
      "89/90 [============================>.] - ETA: 0s - loss: 0.7304 - accuracy: 0.7332\n",
      "Epoch 00003: val_accuracy did not improve from 0.74025\n",
      "90/90 [==============================] - 88s 972ms/step - loss: 0.7290 - accuracy: 0.7335 - val_loss: 0.7533 - val_accuracy: 0.7336\n",
      "Epoch 4/10\n",
      "89/90 [============================>.] - ETA: 0s - loss: 0.7206 - accuracy: 0.7363\n",
      "Epoch 00004: val_accuracy did not improve from 0.74025\n",
      "90/90 [==============================] - 82s 911ms/step - loss: 0.7217 - accuracy: 0.7359 - val_loss: 0.7286 - val_accuracy: 0.7375\n",
      "Epoch 5/10\n",
      "89/90 [============================>.] - ETA: 0s - loss: 0.7160 - accuracy: 0.7402\n",
      "Epoch 00005: val_accuracy improved from 0.74025 to 0.74370, saving model to model-best.h5\n",
      "90/90 [==============================] - 81s 898ms/step - loss: 0.7158 - accuracy: 0.7400 - val_loss: 0.7178 - val_accuracy: 0.7437\n",
      "Epoch 6/10\n",
      "89/90 [============================>.] - ETA: 0s - loss: 0.7066 - accuracy: 0.7458\n",
      "Epoch 00006: val_accuracy improved from 0.74370 to 0.74642, saving model to model-best.h5\n",
      "90/90 [==============================] - 86s 960ms/step - loss: 0.7065 - accuracy: 0.7457 - val_loss: 0.7021 - val_accuracy: 0.7464\n",
      "Epoch 7/10\n",
      "89/90 [============================>.] - ETA: 0s - loss: 0.7027 - accuracy: 0.7451\n",
      "Epoch 00007: val_accuracy did not improve from 0.74642\n",
      "90/90 [==============================] - 84s 928ms/step - loss: 0.7024 - accuracy: 0.7452 - val_loss: 0.7262 - val_accuracy: 0.7370\n",
      "Epoch 8/10\n",
      "89/90 [============================>.] - ETA: 0s - loss: 0.7121 - accuracy: 0.7423\n",
      "Epoch 00008: val_accuracy did not improve from 0.74642\n",
      "90/90 [==============================] - 83s 919ms/step - loss: 0.7121 - accuracy: 0.7424 - val_loss: 0.7507 - val_accuracy: 0.7227\n",
      "Epoch 9/10\n",
      "89/90 [============================>.] - ETA: 0s - loss: 0.7092 - accuracy: 0.7413\n",
      "Epoch 00009: val_accuracy did not improve from 0.74642\n",
      "90/90 [==============================] - 83s 922ms/step - loss: 0.7098 - accuracy: 0.7414 - val_loss: 0.7185 - val_accuracy: 0.7370\n",
      "Epoch 10/10\n",
      "89/90 [============================>.] - ETA: 0s - loss: 0.6950 - accuracy: 0.7442\n",
      "Epoch 00010: val_accuracy did not improve from 0.74642\n",
      "90/90 [==============================] - 82s 915ms/step - loss: 0.6962 - accuracy: 0.7437 - val_loss: 0.7323 - val_accuracy: 0.7363\n"
     ]
    }
   ],
   "source": [
    "history = cnn_model.fit_generator( generator=training, \n",
    "                    validation_data=validation,\n",
    "                    callbacks=callbacks,    \n",
    "                    epochs=10,\n",
    "                    verbose=1)"
   ]
  },
  {
   "cell_type": "code",
   "execution_count": 201,
   "metadata": {},
   "outputs": [
    {
     "data": {
      "text/plain": [
       "<matplotlib.legend.Legend at 0x1a3ec2bef0>"
      ]
     },
     "execution_count": 201,
     "metadata": {},
     "output_type": "execute_result"
    },
    {
     "data": {
      "image/png": "[encoded data removed]",
      "text/plain": [
       "<Figure size 432x288 with 1 Axes>"
      ]
     },
     "metadata": {
      "needs_background": "light"
     },
     "output_type": "display_data"
    }
   ],
   "source": [
    "plt.plot(history.history['accuracy'], label='Train Acc')\n",
    "plt.plot(history.history['val_accuracy'],  label='Val Acc')\n",
    "plt.legend()"
   ]
  },
  {
   "cell_type": "code",
   "execution_count": 176,
   "metadata": {},
   "outputs": [],
   "source": [
    "img = Image.open('data/AnnualCrop/AnnualCrop_667.jpg')"
   ]
  },
  {
   "cell_type": "code",
   "execution_count": 177,
   "metadata": {},
   "outputs": [],
   "source": [
    "img =img.convert('RGB')"
   ]
  },
  {
   "cell_type": "code",
   "execution_count": 178,
   "metadata": {},
   "outputs": [],
   "source": [
    "img_temp=img.resize((64,64))"
   ]
  },
  {
   "cell_type": "code",
   "execution_count": 179,
   "metadata": {},
   "outputs": [
    {
     "data": {
      "text/plain": [
       "<matplotlib.image.AxesImage at 0x1a3e7f2240>"
      ]
     },
     "execution_count": 179,
     "metadata": {},
     "output_type": "execute_result"
    },
    {
     "data": {
      "image/png": "[encoded data removed]",
      "text/plain": [
       "<Figure size 432x288 with 1 Axes>"
      ]
     },
     "metadata": {
      "needs_background": "light"
     },
     "output_type": "display_data"
    }
   ],
   "source": [
    "plt.imshow(img_temp)"
   ]
  },
  {
   "cell_type": "code",
   "execution_count": 180,
   "metadata": {},
   "outputs": [],
   "source": [
    "img=np.asarray(img_temp, dtype='float32')\n",
    "img=img.reshape(1,64,64,3)"
   ]
  },
  {
   "cell_type": "code",
   "execution_count": 181,
   "metadata": {},
   "outputs": [
    {
     "data": {
      "text/plain": [
       "array([8])"
      ]
     },
     "execution_count": 181,
     "metadata": {},
     "output_type": "execute_result"
    }
   ],
   "source": [
    "cnn_model.predict_classes(img)"
   ]
  },
  {
   "cell_type": "code",
   "execution_count": 182,
   "metadata": {},
   "outputs": [
    {
     "data": {
      "text/plain": [
       "{'AnnualCrop': 0,\n",
       " 'Forest': 1,\n",
       " 'HerbaceousVegetation': 2,\n",
       " 'Highway': 3,\n",
       " 'Industrial': 4,\n",
       " 'Pasture': 5,\n",
       " 'PermanentCrop': 6,\n",
       " 'Residential': 7,\n",
       " 'River': 8,\n",
       " 'SeaLake': 9}"
      ]
     },
     "execution_count": 182,
     "metadata": {},
     "output_type": "execute_result"
    }
   ],
   "source": [
    "training.class_indices"
   ]
  }
 ],
 "metadata": {
  "kernelspec": {
   "display_name": "Python 3",
   "language": "python",
   "name": "python3"
  },
  "language_info": {
   "codemirror_mode": {
    "name": "ipython",
    "version": 3
   },
   "file_extension": ".py",
   "mimetype": "text/x-python",
   "name": "python",
   "nbconvert_exporter": "python",
   "pygments_lexer": "ipython3",
   "version": "3.6.9"
  }
 },
 "nbformat": 4,
 "nbformat_minor": 2
}
