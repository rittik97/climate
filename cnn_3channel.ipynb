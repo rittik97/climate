{
 "cells": [
  {
   "cell_type": "code",
   "execution_count": 1,
   "metadata": {},
   "outputs": [],
   "source": [
    "import pandas as pd\n",
    "import numpy as np \n",
    "import matplotlib.pyplot as plt\n",
    "import glob\n",
    "from PIL import Image"
   ]
  },
  {
   "cell_type": "code",
   "execution_count": 2,
   "metadata": {},
   "outputs": [],
   "source": [
    "from tensorflow.keras.models import Sequential \n",
    "from tensorflow.keras.backend import set_image_data_format \n",
    "from tensorflow.keras.layers import Conv2D, MaxPool2D, BatchNormalization \n",
    "from tensorflow.keras.layers import Conv2D, MaxPooling2D\n",
    "from tensorflow.keras.layers import Activation, Dropout, Flatten, Dense, Input \n",
    "from tensorflow.keras import optimizers, losses, utils \n",
    "#from livelossplot import keras_plot"
   ]
  },
  {
   "cell_type": "code",
   "execution_count": 3,
   "metadata": {},
   "outputs": [],
   "source": [
    "from sklearn.model_selection import train_test_split\n",
    "from sklearn.preprocessing import LabelEncoder\n"
   ]
  },
  {
   "cell_type": "code",
   "execution_count": 4,
   "metadata": {},
   "outputs": [],
   "source": [
    "X=[]\n",
    "y=[]"
   ]
  },
  {
   "cell_type": "code",
   "execution_count": 6,
   "metadata": {},
   "outputs": [],
   "source": [
    "\n",
    "files = glob.glob(\"data/Highway/*.jpg\")\n",
    "for file in files:\n",
    "    img = np.asarray(Image.open(file))\n",
    "    X.append(img)\n",
    "    y.append('Highway')"
   ]
  },
  {
   "cell_type": "code",
   "execution_count": 7,
   "metadata": {},
   "outputs": [],
   "source": [
    "X=np.asarray(X)"
   ]
  },
  {
   "cell_type": "code",
   "execution_count": 8,
   "metadata": {},
   "outputs": [
    {
     "data": {
      "text/plain": [
       "(5500, 64, 64, 3)"
      ]
     },
     "execution_count": 8,
     "metadata": {},
     "output_type": "execute_result"
    }
   ],
   "source": [
    "X.shape"
   ]
  },
  {
   "cell_type": "code",
   "execution_count": 10,
   "metadata": {},
   "outputs": [
    {
     "data": {
      "text/plain": [
       "<matplotlib.image.AxesImage at 0x1a3a7de7f0>"
      ]
     },
     "execution_count": 10,
     "metadata": {},
     "output_type": "execute_result"
    },
    {
     "data": {
      "image/png": "[encoded data removed]",
      "text/plain": [
       "<Figure size 432x288 with 1 Axes>"
      ]
     },
     "metadata": {
      "needs_background": "light"
     },
     "output_type": "display_data"
    }
   ],
   "source": [
    "plt.imshow(X[4567].reshape(64, 64,3),cmap='Greens')"
   ]
  },
  {
   "cell_type": "code",
   "execution_count": 11,
   "metadata": {},
   "outputs": [],
   "source": [
    "X_train, X_test, y_train, y_test = train_test_split(X, y, test_size=0.2, random_state=117)"
   ]
  },
  {
   "cell_type": "code",
   "execution_count": 12,
   "metadata": {},
   "outputs": [],
   "source": [
    "X_train = X_train.astype('float32')\n",
    "X_test = X_test.astype('float32')"
   ]
  },
  {
   "cell_type": "code",
   "execution_count": 14,
   "metadata": {},
   "outputs": [],
   "source": [
    "le=LabelEncoder()\n",
    "y_train = le.fit_transform(y_train)\n",
    "y_test = le.fit_transform(y_test)"
   ]
  },
  {
   "cell_type": "code",
   "execution_count": 15,
   "metadata": {},
   "outputs": [
    {
     "data": {
      "text/plain": [
       "array(['Forest', 'Highway'], dtype='<U7')"
      ]
     },
     "execution_count": 15,
     "metadata": {},
     "output_type": "execute_result"
    }
   ],
   "source": [
    "le.classes_"
   ]
  },
  {
   "cell_type": "code",
   "execution_count": 16,
   "metadata": {},
   "outputs": [],
   "source": [
    "cnn_model = Sequential()\n",
    "cnn_model.add(Input(shape=(64, 64, 3)))\n",
    "cnn_model.add(Conv2D(filters = 6,            \n",
    "                     kernel_size = 3,       \n",
    "                     activation='relu'),\n",
    "                    \n",
    "             )\n",
    "cnn_model.add(MaxPooling2D(pool_size=(2,2)))\n",
    "cnn_model.add(Conv2D(16,\n",
    "                     kernel_size=2,\n",
    "                     activation='relu'),\n",
    "                \n",
    "             )\n",
    "cnn_model.add(MaxPooling2D(pool_size=(2,2)))\n",
    "\n",
    "cnn_model.add(Flatten())\n",
    "cnn_model.add(Dense(128, activation='relu'))\n",
    "\n",
    "cnn_model.add(Dense(len(le.classes_) - 1, activation='sigmoid'))"
   ]
  },
  {
   "cell_type": "code",
   "execution_count": 17,
   "metadata": {},
   "outputs": [],
   "source": [
    "\n",
    "cnn_model.compile(loss='binary_crossentropy', optimizer='adam', metrics=['accuracy'])"
   ]
  },
  {
   "cell_type": "code",
   "execution_count": 18,
   "metadata": {},
   "outputs": [
    {
     "name": "stdout",
     "output_type": "stream",
     "text": [
      "Train on 4400 samples, validate on 1100 samples\n",
      "Epoch 1/15\n",
      "4400/4400 [==============================] - 6s 1ms/sample - loss: 3.0737 - accuracy: 0.6414 - val_loss: 0.3385 - val_accuracy: 0.9200\n",
      "Epoch 2/15\n",
      "4400/4400 [==============================] - 5s 1ms/sample - loss: 0.3396 - accuracy: 0.9316 - val_loss: 0.1136 - val_accuracy: 0.9791\n",
      "Epoch 3/15\n",
      "4400/4400 [==============================] - 5s 1ms/sample - loss: 0.0935 - accuracy: 0.9732 - val_loss: 0.0786 - val_accuracy: 0.9782\n",
      "Epoch 4/15\n",
      "4400/4400 [==============================] - 5s 1ms/sample - loss: 0.0628 - accuracy: 0.9793 - val_loss: 0.0624 - val_accuracy: 0.9818\n",
      "Epoch 5/15\n",
      "4400/4400 [==============================] - 5s 1ms/sample - loss: 0.0459 - accuracy: 0.9843 - val_loss: 0.0629 - val_accuracy: 0.9773\n",
      "Epoch 6/15\n",
      "4400/4400 [==============================] - 5s 1ms/sample - loss: 0.0347 - accuracy: 0.9884 - val_loss: 0.0665 - val_accuracy: 0.9755\n",
      "Epoch 7/15\n",
      "4400/4400 [==============================] - 5s 1ms/sample - loss: 0.0300 - accuracy: 0.9898 - val_loss: 0.0597 - val_accuracy: 0.9800\n",
      "Epoch 8/15\n",
      "4400/4400 [==============================] - 5s 1ms/sample - loss: 0.0252 - accuracy: 0.9920 - val_loss: 0.0610 - val_accuracy: 0.9809\n",
      "Epoch 9/15\n",
      "4400/4400 [==============================] - 5s 1ms/sample - loss: 0.0168 - accuracy: 0.9950 - val_loss: 0.0604 - val_accuracy: 0.9809\n",
      "Epoch 10/15\n",
      "4400/4400 [==============================] - 5s 1ms/sample - loss: 0.0148 - accuracy: 0.9952 - val_loss: 0.0653 - val_accuracy: 0.9809\n",
      "Epoch 11/15\n",
      "4400/4400 [==============================] - 5s 1ms/sample - loss: 0.0123 - accuracy: 0.9973 - val_loss: 0.0587 - val_accuracy: 0.9845\n",
      "Epoch 12/15\n",
      "4400/4400 [==============================] - 5s 1ms/sample - loss: 0.0110 - accuracy: 0.9977 - val_loss: 0.0597 - val_accuracy: 0.9836\n",
      "Epoch 13/15\n",
      "4400/4400 [==============================] - 5s 1ms/sample - loss: 0.0074 - accuracy: 0.9989 - val_loss: 0.0613 - val_accuracy: 0.9827\n",
      "Epoch 14/15\n",
      "4400/4400 [==============================] - 5s 1ms/sample - loss: 0.0067 - accuracy: 0.9991 - val_loss: 0.0606 - val_accuracy: 0.9836\n",
      "Epoch 15/15\n",
      "4400/4400 [==============================] - 5s 1ms/sample - loss: 0.0117 - accuracy: 0.9957 - val_loss: 0.0681 - val_accuracy: 0.9845\n"
     ]
    }
   ],
   "source": [
    "history = cnn_model.fit( X_train,\n",
    "                    y_train, \n",
    "                    batch_size=256,\n",
    "                    validation_data=(X_test, y_test),\n",
    "            \n",
    "                    epochs=15,\n",
    "                    verbose=1)"
   ]
  },
  {
   "cell_type": "code",
   "execution_count": 19,
   "metadata": {},
   "outputs": [
    {
     "data": {
      "text/plain": [
       "[<matplotlib.lines.Line2D at 0x105999f60>]"
      ]
     },
     "execution_count": 19,
     "metadata": {},
     "output_type": "execute_result"
    },
    {
     "data": {
      "image/png": "[encoded data removed]",
      "text/plain": [
       "<Figure size 432x288 with 1 Axes>"
      ]
     },
     "metadata": {
      "needs_background": "light"
     },
     "output_type": "display_data"
    }
   ],
   "source": [
    "plt.plot(history.history['accuracy'])\n",
    "plt.plot(history.history['val_accuracy'])"
   ]
  },
  {
   "cell_type": "code",
   "execution_count": 20,
   "metadata": {},
   "outputs": [],
   "source": [
    "img = Image.open('try.png')"
   ]
  },
  {
   "cell_type": "code",
   "execution_count": 21,
   "metadata": {},
   "outputs": [],
   "source": [
    "img =img.convert('RGB')"
   ]
  },
  {
   "cell_type": "code",
   "execution_count": 22,
   "metadata": {},
   "outputs": [],
   "source": [
    "img_temp=img.resize((64,64))"
   ]
  },
  {
   "cell_type": "code",
   "execution_count": 23,
   "metadata": {},
   "outputs": [
    {
     "data": {
      "text/plain": [
       "<matplotlib.image.AxesImage at 0x11708cd30>"
      ]
     },
     "execution_count": 23,
     "metadata": {},
     "output_type": "execute_result"
    },
    {
     "data": {
      "image/png": "[encoded data removed]",
      "text/plain": [
       "<Figure size 432x288 with 1 Axes>"
      ]
     },
     "metadata": {
      "needs_background": "light"
     },
     "output_type": "display_data"
    }
   ],
   "source": [
    "plt.imshow(img_temp)"
   ]
  },
  {
   "cell_type": "code",
   "execution_count": 24,
   "metadata": {},
   "outputs": [],
   "source": [
    "img=np.asarray(img_temp)\n",
    "img=img.reshape(1, 64,64,3)"
   ]
  },
  {
   "cell_type": "code",
   "execution_count": 28,
   "metadata": {},
   "outputs": [
    {
     "data": {
      "text/plain": [
       "array([[0.99999964]], dtype=float32)"
      ]
     },
     "execution_count": 28,
     "metadata": {},
     "output_type": "execute_result"
    }
   ],
   "source": [
    "cnn_model.predict(img)"
   ]
  },
  {
   "cell_type": "code",
   "execution_count": 29,
   "metadata": {},
   "outputs": [
    {
     "data": {
      "text/plain": [
       "array(['Highway'], dtype='<U7')"
      ]
     },
     "execution_count": 29,
     "metadata": {},
     "output_type": "execute_result"
    }
   ],
   "source": [
    "le.inverse_transform([1])"
   ]
  }
 ],
 "metadata": {
  "kernelspec": {
   "display_name": "Python 3",
   "language": "python",
   "name": "python3"
  },
  "language_info": {
   "codemirror_mode": {
    "name": "ipython",
    "version": 3
   },
   "file_extension": ".py",
   "mimetype": "text/x-python",
   "name": "python",
   "nbconvert_exporter": "python",
   "pygments_lexer": "ipython3",
   "version": "3.6.9"
  }
 },
 "nbformat": 4,
 "nbformat_minor": 2
}
